{
 "cells": [
  {
   "cell_type": "markdown",
   "metadata": {},
   "source": [
    "## L3-Landslides\n",
    "\n",
    "# 2_Prediction Notebook\n",
    "\n",
    "At this stage, the already trained model processes new images in search of the patterns that define the object of interest. For each image in the prediction dataset, it returns an image where each pixel represents the probability of having detected the object of interest."
   ]
  },
  {
   "cell_type": "code",
   "execution_count": 1,
   "metadata": {},
   "outputs": [],
   "source": [
    "import os\n",
    "import glob\n",
    "import subprocess\n",
    "from unetseg.predict import PredictConfig, predict\n",
    "from unetseg.evaluate import plot_data_results\n",
    "from tqdm import tqdm\n",
    "from satproc.postprocess.polygonize import polygonize \n",
    "from satproc.filter import filter_by_max_prob"
   ]
  },
  {
   "cell_type": "markdown",
   "metadata": {},
   "source": [
    "## **Variables statement**"
   ]
  },
  {
   "cell_type": "code",
   "execution_count": 3,
   "metadata": {},
   "outputs": [],
   "source": [
    "#General\n",
    "ZONE = \"TEGUCIGALPA\"\n",
    "RESO = \"planet\"\n",
    "VERSION=\"V1\"\n",
    "PROYECT='landslides'\n",
    " #We use the trained model in Tegucigalpa to predict over Tegucigalpa and Sula Valley\n",
    "\n",
    "#Bucket\n",
    "BUCKET_IMG_SULA ='gs://dym-quilmes-trucks-temp/I2UD/landslides/images/GLOBAL/SULA/V1/dataset_sula_global_epsg4326.tif'#gs://dym-quilmes-trucks-temp/I2UD/landslides/images/LOCAL/SULA/V1/dataset_sula_local_epsg4326.tif' #f\"gs://dym-quilmes-trucks-temp/I2UD/{PROYECT}/images/LOCAL/{ZONE}/{VERSION}/*.tif\" #CHECK\n",
    "\n",
    "#Paths\n",
    "BASE_PATH = \"./..\"\n",
    "PATH_PREDICT_IMAGES = f'{BASE_PATH}/images/{ZONE}/{RESO}/'\n",
    "PATH_AOI=f'{BASE_PATH}/data/shp/gt/{ZONE}/'\n",
    "AOI_PREDICT=\"municipios_sula_disolve.geojson\"\n"
   ]
  },
  {
   "cell_type": "code",
   "execution_count": 4,
   "metadata": {},
   "outputs": [],
   "source": [
    "CLASS_WEIGHT = [1]\n",
    "N_CLASSES = 1\n",
    "INPUT_SIZE=160\n",
    "N_CHANNELS=10\n",
    "INFO = \"classD\"\n",
    "\n",
    "if ZONE='TEGUCIGALPA':\n",
    "    if RESO=\"planet\":\n",
    "        #satproc\n",
    "        SIZE =160\n",
    "        STEP_SIZE = 40\n",
    "        step_size=STEP_SIZE\n",
    "        RESCALE_MODE = \"percentiles --lower-cut 0 --upper-cut 100\"\n",
    "        #unet\n",
    "        MODEL_NAME=\"UNet_TEGUCIGALPA_planet_160x160_160_40_spe90_10N_classD_v3.h5\"\n",
    "        STEP_PER_EPOCH = 90\n",
    "        VERSION_UNET='v3'\n",
    "        #Post-process\n",
    "        SMOOTH_FILTER=91\n",
    "    if RESO=\"low\":\n",
    "        #satproc\n",
    "        SIZE =160\n",
    "        STEP_SIZE = 40\n",
    "        step_size=SIZE\n",
    "        RESCALE_MODE = \"percentiles --lower-cut 0 --upper-cut 100\"           \n",
    "        #unet\n",
    "        MODEL_NAME = 'UNet_TEGUCIGALPA_low_160x160_160_40_spe85_10N_classD_v1.h5'\n",
    "        STEP_PER_EPOCH = 85\n",
    "        VERSION_UNET='v1'\n",
    "        #Post-process\n",
    "        THR=0.3\n",
    "        min_area=20000\n",
    "        \n",
    "if ZONE='SULA':\n",
    "        if RESO=\"planet\":\n",
    "        #satproc\n",
    "        SIZE =256\n",
    "        STEP_SIZE = 64\n",
    "        step_size=STEP_SIZE\n",
    "        RESCALE_MODE = \"percentiles --lower-cut 0 --upper-cut 100\"\n",
    "        #unet\n",
    "        MODEL_NAME=\"UNet_TEGUCIGALPA_planet_160x160_160_40_spe90_10N_classD_v3.h5\"\n",
    "        STEP_PER_EPOCH = 90\n",
    "        VERSION_UNET='v3'\n",
    "        #Post-process\n",
    "        SMOOTH_FILTER=201\n",
    "    if RESO=\"low\":\n",
    "        #satproc\n",
    "        SIZE =160\n",
    "        STEP_SIZE = 40\n",
    "        step_size=STEP_SIZE\n",
    "        RESCALE_MODE = \"percentiles --lower-cut 0 --upper-cut 100\"           \n",
    "        #unet\n",
    "        MODEL_NAME = 'UNet_TEGUCIGALPA_low_160x160_160_40_spe85_10N_classD_v1.h5'\n",
    "        STEP_PER_EPOCH = 85\n",
    "        VERSION_UNET='v1'    \n",
    "        SMOOTH_FILTER=201"
   ]
  },
  {
   "cell_type": "markdown",
   "metadata": {},
   "source": [
    "### Download from buckets\n",
    "**Sula Valley images download**\n"
   ]
  },
  {
   "cell_type": "code",
   "execution_count": null,
   "metadata": {},
   "outputs": [],
   "source": [
    "!mkdir -p $PATH_SULA_IMAGES\n",
    "\n",
    "!gsutil -m cp -r $BUCKET_IMG_SULA   $PATH_PREDICT_IMAGES"
   ]
  },
  {
   "cell_type": "markdown",
   "metadata": {},
   "source": [
    "## Prediction dataset generation\n",
    "### Satproc\n",
    "\n",
    "*satproc_extract_chips* tool is also used to generate the predict dataset which only has images.\n",
    "\n",
    "* Tegucigalpa global:\n",
    "The prediction is done over the whole image and without overlap, then the size and step_size must be equals.\n",
    "\n",
    "* Tegucigalpa local & Sula Valley:\n",
    "Here, we are interested in predict over the whole image. We also want to get a better visualization of the results, so we'll generate chips with overlap, because they are necessary to the smooth tool used in the post-process.\n"
   ]
  },
  {
   "cell_type": "code",
   "execution_count": 23,
   "metadata": {},
   "outputs": [],
   "source": [
    "path_to_files   = f'{PATH_PREDICT_IMAGES}*.tif' #carpeta a las imagenes\n",
    "output_folder   = f'{BASE_PATH}/dataset/data_predict/{ZONE}/{RESO}/{str(SIZE)}_{str(STEP_SIZE)}/' #carpeta de destino del dataset\n",
    "#vector_file_aoi = f'{PATH_AOI}{AOI_PREDICT}'  #archivo vectorial con las zonas de interes\n",
    "print(path_to_files, output_folder)"
   ]
  },
  {
   "cell_type": "code",
   "execution_count": null,
   "metadata": {},
   "outputs": [],
   "source": [
    "#!satproc_extract_chips --help"
   ]
  },
  {
   "cell_type": "markdown",
   "metadata": {},
   "source": [
    "Satproc execution"
   ]
  },
  {
   "cell_type": "code",
   "execution_count": 25,
   "metadata": {
    "scrolled": true,
    "tags": []
   },
   "outputs": [
    {
     "name": "stdout",
     "output_type": "stream",
     "text": [
      "Rasters:   0%|                                            | 0/1 [00:00<?, ?it/s]\n",
      "dataset_sula_global_epsg4326.tif windows:   0%|        | 0/2124 [00:00<?, ?it/s]\u001b[A\n",
      "dataset_sula_global_epsg4326.tif windows:   0%| | 1/2124 [00:00<04:19,  8.17it/s\u001b[A\n",
      "dataset_sula_global_epsg4326.tif windows:   0%| | 3/2124 [00:00<02:47, 12.66it/s\u001b[A\n",
      "dataset_sula_global_epsg4326.tif windows:   0%| | 5/2124 [00:00<02:18, 15.31it/s\u001b[A\n",
      "dataset_sula_global_epsg4326.tif windows:   0%| | 7/2124 [00:00<02:16, 15.54it/s\u001b[A\n",
      "dataset_sula_global_epsg4326.tif windows:   0%| | 9/2124 [00:00<02:14, 15.67it/s\u001b[A\n",
      "dataset_sula_global_epsg4326.tif windows:   1%| | 11/2124 [00:00<02:06, 16.67it/\u001b[A\n",
      "dataset_sula_global_epsg4326.tif windows:   1%| | 14/2124 [00:00<01:58, 17.76it/\u001b[A\n",
      "dataset_sula_global_epsg4326.tif windows:   1%| | 17/2124 [00:01<01:50, 19.09it/\u001b[A\n",
      "dataset_sula_global_epsg4326.tif windows:   1%| | 20/2124 [00:01<01:47, 19.65it/\u001b[A\n",
      "dataset_sula_global_epsg4326.tif windows:   1%| | 23/2124 [00:01<01:43, 20.39it/\u001b[A\n",
      "dataset_sula_global_epsg4326.tif windows:   1%| | 26/2124 [00:01<01:42, 20.46it/\u001b[A\n",
      "dataset_sula_global_epsg4326.tif windows:   1%| | 29/2124 [00:01<01:42, 20.46it/\u001b[A\n",
      "dataset_sula_global_epsg4326.tif windows:   2%| | 32/2124 [00:01<01:41, 20.59it/\u001b[A\n",
      "dataset_sula_global_epsg4326.tif windows:   2%| | 35/2124 [00:01<01:40, 20.81it/\u001b[A\n",
      "dataset_sula_global_epsg4326.tif windows:   2%| | 38/2124 [00:02<02:11, 15.81it/\u001b[A\n",
      "dataset_sula_global_epsg4326.tif windows:   2%| | 41/2124 [00:02<02:02, 16.94it/\u001b[A\n",
      "dataset_sula_global_epsg4326.tif windows:   2%| | 44/2124 [00:02<01:57, 17.77it/\u001b[A\n",
      "dataset_sula_global_epsg4326.tif windows:   2%| | 47/2124 [00:02<01:52, 18.50it/\u001b[A\n",
      "dataset_sula_global_epsg4326.tif windows:   2%| | 50/2124 [00:02<01:48, 19.10it/\u001b[A\n",
      "dataset_sula_global_epsg4326.tif windows:   2%| | 53/2124 [00:02<01:45, 19.58it/\u001b[A\n",
      "dataset_sula_global_epsg4326.tif windows:   3%| | 56/2124 [00:03<01:47, 19.29it/\u001b[A\n",
      "dataset_sula_global_epsg4326.tif windows:   3%| | 59/2124 [00:03<01:46, 19.32it/\u001b[A\n",
      "dataset_sula_global_epsg4326.tif windows:   3%| | 62/2124 [00:03<01:44, 19.75it/\u001b[A\n",
      "dataset_sula_global_epsg4326.tif windows:   3%| | 64/2124 [00:03<01:45, 19.57it/\u001b[A\n",
      "dataset_sula_global_epsg4326.tif windows:   3%| | 67/2124 [00:03<01:44, 19.69it/\u001b[A\n",
      "dataset_sula_global_epsg4326.tif windows:   3%| | 70/2124 [00:03<01:42, 20.03it/\u001b[A\n",
      "dataset_sula_global_epsg4326.tif windows:   3%| | 73/2124 [00:04<02:13, 15.33it/\u001b[A\n",
      "dataset_sula_global_epsg4326.tif windows:   4%| | 75/2124 [00:04<02:10, 15.74it/\u001b[A\n",
      "dataset_sula_global_epsg4326.tif windows:   4%| | 78/2124 [00:04<01:58, 17.21it/\u001b[A\n",
      "dataset_sula_global_epsg4326.tif windows:   4%| | 81/2124 [00:04<01:51, 18.26it/\u001b[A\n",
      "dataset_sula_global_epsg4326.tif windows:   4%| | 84/2124 [00:04<01:47, 18.91it/\u001b[A\n",
      "dataset_sula_global_epsg4326.tif windows:   4%| | 87/2124 [00:04<01:43, 19.78it/\u001b[A\n",
      "dataset_sula_global_epsg4326.tif windows:   4%| | 90/2124 [00:04<01:45, 19.25it/\u001b[A\n",
      "dataset_sula_global_epsg4326.tif windows:   4%| | 93/2124 [00:05<01:43, 19.63it/\u001b[A\n",
      "dataset_sula_global_epsg4326.tif windows:   5%| | 96/2124 [00:05<01:43, 19.68it/\u001b[A\n",
      "dataset_sula_global_epsg4326.tif windows:   5%| | 99/2124 [00:05<01:42, 19.85it/\u001b[A\n",
      "dataset_sula_global_epsg4326.tif windows:   5%| | 102/2124 [00:05<01:40, 20.10it\u001b[A\n",
      "dataset_sula_global_epsg4326.tif windows:   5%| | 105/2124 [00:05<01:41, 19.83it\u001b[A\n",
      "dataset_sula_global_epsg4326.tif windows:   5%| | 107/2124 [00:05<02:06, 15.92it\u001b[A\n",
      "dataset_sula_global_epsg4326.tif windows:   5%| | 110/2124 [00:06<01:57, 17.10it\u001b[A\n",
      "dataset_sula_global_epsg4326.tif windows:   5%| | 113/2124 [00:06<01:51, 18.04it\u001b[A\n",
      "dataset_sula_global_epsg4326.tif windows:   5%| | 115/2124 [00:06<01:49, 18.43it\u001b[A\n",
      "dataset_sula_global_epsg4326.tif windows:   6%| | 117/2124 [00:06<01:51, 17.93it\u001b[A\n",
      "dataset_sula_global_epsg4326.tif windows:   6%| | 119/2124 [00:06<01:53, 17.74it\u001b[A\n",
      "dataset_sula_global_epsg4326.tif windows:   6%| | 122/2124 [00:06<01:47, 18.71it\u001b[A\n",
      "dataset_sula_global_epsg4326.tif windows:   6%| | 125/2124 [00:06<01:42, 19.43it\u001b[A\n",
      "dataset_sula_global_epsg4326.tif windows:   6%| | 127/2124 [00:06<01:42, 19.50it\u001b[A\n",
      "dataset_sula_global_epsg4326.tif windows:   6%| | 130/2124 [00:07<01:38, 20.19it\u001b[A\n",
      "dataset_sula_global_epsg4326.tif windows:   6%| | 133/2124 [00:07<01:37, 20.46it\u001b[A\n",
      "dataset_sula_global_epsg4326.tif windows:   6%| | 136/2124 [00:07<01:36, 20.59it\u001b[A\n",
      "dataset_sula_global_epsg4326.tif windows:   7%| | 139/2124 [00:07<01:41, 19.65it\u001b[A\n",
      "dataset_sula_global_epsg4326.tif windows:   7%| | 141/2124 [00:07<02:03, 16.00it\u001b[A\n",
      "dataset_sula_global_epsg4326.tif windows:   7%| | 144/2124 [00:07<01:54, 17.33it\u001b[A\n",
      "dataset_sula_global_epsg4326.tif windows:   7%| | 146/2124 [00:07<01:51, 17.73it\u001b[A\n",
      "dataset_sula_global_epsg4326.tif windows:   7%| | 149/2124 [00:08<01:45, 18.65it\u001b[A\n",
      "dataset_sula_global_epsg4326.tif windows:   7%| | 151/2124 [00:08<01:50, 17.84it\u001b[A\n",
      "dataset_sula_global_epsg4326.tif windows:   7%| | 153/2124 [00:08<01:49, 18.08it\u001b[A\n",
      "dataset_sula_global_epsg4326.tif windows:   7%| | 155/2124 [00:08<01:48, 18.20it\u001b[A\n",
      "dataset_sula_global_epsg4326.tif windows:   7%| | 157/2124 [00:08<01:45, 18.56it\u001b[A\n",
      "dataset_sula_global_epsg4326.tif windows:   7%| | 159/2124 [00:08<01:44, 18.83it\u001b[A\n",
      "dataset_sula_global_epsg4326.tif windows:   8%| | 162/2124 [00:08<01:44, 18.73it\u001b[A\n",
      "dataset_sula_global_epsg4326.tif windows:   8%| | 164/2124 [00:08<01:44, 18.79it\u001b[A\n",
      "dataset_sula_global_epsg4326.tif windows:   8%| | 166/2124 [00:08<01:43, 18.95it\u001b[A\n",
      "dataset_sula_global_epsg4326.tif windows:   8%| | 169/2124 [00:09<01:40, 19.36it\u001b[A\n",
      "dataset_sula_global_epsg4326.tif windows:   8%| | 171/2124 [00:09<01:44, 18.64it\u001b[A\n",
      "dataset_sula_global_epsg4326.tif windows:   8%| | 174/2124 [00:09<01:40, 19.33it\u001b[A\n",
      "dataset_sula_global_epsg4326.tif windows:   8%| | 176/2124 [00:09<02:17, 14.15it\u001b[A\n",
      "dataset_sula_global_epsg4326.tif windows:   8%| | 179/2124 [00:09<02:01, 15.99it\u001b[A\n",
      "dataset_sula_global_epsg4326.tif windows:   9%| | 182/2124 [00:09<01:52, 17.29it\u001b[A\n",
      "dataset_sula_global_epsg4326.tif windows:   9%| | 184/2124 [00:10<01:50, 17.57it\u001b[A\n",
      "dataset_sula_global_epsg4326.tif windows:   9%| | 186/2124 [00:10<01:48, 17.88it\u001b[A\n",
      "dataset_sula_global_epsg4326.tif windows:   9%| | 189/2124 [00:10<01:43, 18.68it\u001b[A\n",
      "dataset_sula_global_epsg4326.tif windows:   9%| | 191/2124 [00:10<01:43, 18.72it\u001b[A\n",
      "dataset_sula_global_epsg4326.tif windows:   9%| | 194/2124 [00:10<01:40, 19.22it\u001b[A\n",
      "dataset_sula_global_epsg4326.tif windows:   9%| | 196/2124 [00:10<01:39, 19.39it\u001b[A\n",
      "dataset_sula_global_epsg4326.tif windows:   9%| | 198/2124 [00:10<01:41, 18.90it\u001b[A\n",
      "dataset_sula_global_epsg4326.tif windows:   9%| | 201/2124 [00:10<01:39, 19.35it\u001b[A\n",
      "dataset_sula_global_epsg4326.tif windows:  10%| | 203/2124 [00:11<01:38, 19.49it\u001b[A\n",
      "dataset_sula_global_epsg4326.tif windows:  10%| | 205/2124 [00:11<01:40, 19.09it\u001b[A\n",
      "dataset_sula_global_epsg4326.tif windows:  10%| | 207/2124 [00:11<01:44, 18.42it\u001b[A\n",
      "dataset_sula_global_epsg4326.tif windows:  10%| | 209/2124 [00:11<01:44, 18.40it\u001b[A\n",
      "dataset_sula_global_epsg4326.tif windows:  10%| | 211/2124 [00:11<02:11, 14.59it\u001b[A\n",
      "dataset_sula_global_epsg4326.tif windows:  10%|1| 214/2124 [00:11<01:54, 16.61it\u001b[A\n",
      "dataset_sula_global_epsg4326.tif windows:  10%|1| 216/2124 [00:11<01:49, 17.37it\u001b[A\n",
      "dataset_sula_global_epsg4326.tif windows:  10%|1| 219/2124 [00:11<01:42, 18.64it\u001b[A\n",
      "dataset_sula_global_epsg4326.tif windows:  10%|1| 222/2124 [00:12<01:40, 18.93it\u001b[A\n",
      "dataset_sula_global_epsg4326.tif windows:  11%|1| 225/2124 [00:12<01:38, 19.36it\u001b[A\n",
      "dataset_sula_global_epsg4326.tif windows:  11%|1| 227/2124 [00:12<01:37, 19.40it\u001b[A\n",
      "dataset_sula_global_epsg4326.tif windows:  11%|1| 229/2124 [00:12<01:41, 18.66it\u001b[A\n",
      "dataset_sula_global_epsg4326.tif windows:  11%|1| 231/2124 [00:12<01:39, 18.97it\u001b[A\n",
      "dataset_sula_global_epsg4326.tif windows:  11%|1| 234/2124 [00:12<01:37, 19.43it\u001b[A\n",
      "dataset_sula_global_epsg4326.tif windows:  11%|1| 237/2124 [00:12<01:34, 20.07it\u001b[A\n",
      "dataset_sula_global_epsg4326.tif windows:  11%|1| 240/2124 [00:12<01:32, 20.27it\u001b[A\n",
      "dataset_sula_global_epsg4326.tif windows:  11%|1| 243/2124 [00:13<01:33, 20.22it\u001b[A\n",
      "dataset_sula_global_epsg4326.tif windows:  12%|1| 246/2124 [00:13<01:55, 16.22it\u001b[A\n",
      "dataset_sula_global_epsg4326.tif windows:  12%|1| 248/2124 [00:13<01:54, 16.38it\u001b[A\n",
      "dataset_sula_global_epsg4326.tif windows:  12%|1| 251/2124 [00:13<01:48, 17.30it\u001b[A\n",
      "dataset_sula_global_epsg4326.tif windows:  12%|1| 253/2124 [00:13<01:45, 17.66it\u001b[A\n",
      "dataset_sula_global_epsg4326.tif windows:  12%|1| 255/2124 [00:13<01:43, 18.01it\u001b[A\n",
      "dataset_sula_global_epsg4326.tif windows:  12%|1| 258/2124 [00:14<01:40, 18.63it\u001b[A\n",
      "dataset_sula_global_epsg4326.tif windows:  12%|1| 260/2124 [00:14<01:38, 18.85it\u001b[A\n",
      "dataset_sula_global_epsg4326.tif windows:  12%|1| 262/2124 [00:14<01:37, 19.03it\u001b[A\n",
      "dataset_sula_global_epsg4326.tif windows:  12%|1| 264/2124 [00:14<01:38, 18.90it\u001b[A\n",
      "dataset_sula_global_epsg4326.tif windows:  13%|1| 266/2124 [00:14<01:36, 19.17it\u001b[A\n",
      "dataset_sula_global_epsg4326.tif windows:  13%|1| 268/2124 [00:14<01:36, 19.28it\u001b[A\n",
      "dataset_sula_global_epsg4326.tif windows:  13%|1| 271/2124 [00:14<01:34, 19.52it\u001b[A\n",
      "dataset_sula_global_epsg4326.tif windows:  13%|1| 273/2124 [00:14<01:35, 19.43it\u001b[A\n",
      "dataset_sula_global_epsg4326.tif windows:  13%|1| 275/2124 [00:14<01:34, 19.48it\u001b[A\n",
      "dataset_sula_global_epsg4326.tif windows:  13%|1| 278/2124 [00:15<01:32, 19.87it\u001b[A\n",
      "dataset_sula_global_epsg4326.tif windows:  13%|1| 280/2124 [00:15<01:36, 19.04it\u001b[A\n",
      "dataset_sula_global_epsg4326.tif windows:  13%|1| 282/2124 [00:15<02:05, 14.72it\u001b[A\n",
      "dataset_sula_global_epsg4326.tif windows:  13%|1| 284/2124 [00:15<01:59, 15.46it\u001b[A\n",
      "dataset_sula_global_epsg4326.tif windows:  13%|1| 286/2124 [00:15<01:52, 16.30it\u001b[A\n",
      "dataset_sula_global_epsg4326.tif windows:  14%|1| 289/2124 [00:15<01:44, 17.55it\u001b[A\n",
      "dataset_sula_global_epsg4326.tif windows:  14%|1| 292/2124 [00:15<01:39, 18.49it\u001b[A\n",
      "dataset_sula_global_epsg4326.tif windows:  14%|1| 295/2124 [00:16<01:34, 19.29it\u001b[A\n",
      "dataset_sula_global_epsg4326.tif windows:  14%|1| 298/2124 [00:16<01:33, 19.47it\u001b[A\n",
      "dataset_sula_global_epsg4326.tif windows:  14%|1| 300/2124 [00:16<01:35, 19.12it\u001b[A\n",
      "dataset_sula_global_epsg4326.tif windows:  14%|1| 302/2124 [00:16<01:34, 19.30it\u001b[A\n",
      "dataset_sula_global_epsg4326.tif windows:  14%|1| 305/2124 [00:16<01:34, 19.34it\u001b[A\n",
      "dataset_sula_global_epsg4326.tif windows:  15%|1| 308/2124 [00:16<01:32, 19.56it\u001b[A\n",
      "dataset_sula_global_epsg4326.tif windows:  15%|1| 310/2124 [00:16<01:33, 19.34it\u001b[A\n",
      "dataset_sula_global_epsg4326.tif windows:  15%|1| 312/2124 [00:16<01:33, 19.28it\u001b[A\n",
      "dataset_sula_global_epsg4326.tif windows:  15%|1| 314/2124 [00:17<01:37, 18.56it\u001b[A\n",
      "dataset_sula_global_epsg4326.tif windows:  15%|1| 316/2124 [00:17<02:14, 13.44it\u001b[A\n",
      "dataset_sula_global_epsg4326.tif windows:  15%|1| 318/2124 [00:17<02:05, 14.35it\u001b[A\n",
      "dataset_sula_global_epsg4326.tif windows:  15%|1| 320/2124 [00:17<01:58, 15.22it\u001b[A\n",
      "dataset_sula_global_epsg4326.tif windows:  15%|1| 322/2124 [00:17<01:51, 16.14it\u001b[A\n",
      "dataset_sula_global_epsg4326.tif windows:  15%|1| 325/2124 [00:17<01:42, 17.51it\u001b[A\n",
      "dataset_sula_global_epsg4326.tif windows:  15%|1| 327/2124 [00:17<01:40, 17.94it\u001b[A\n",
      "dataset_sula_global_epsg4326.tif windows:  15%|1| 329/2124 [00:17<01:38, 18.13it\u001b[A\n",
      "dataset_sula_global_epsg4326.tif windows:  16%|1| 332/2124 [00:18<01:35, 18.84it\u001b[A\n",
      "dataset_sula_global_epsg4326.tif windows:  16%|1| 335/2124 [00:18<01:31, 19.46it\u001b[A\n",
      "dataset_sula_global_epsg4326.tif windows:  16%|1| 337/2124 [00:18<01:32, 19.37it\u001b[A\n",
      "dataset_sula_global_epsg4326.tif windows:  16%|1| 340/2124 [00:18<01:30, 19.69it\u001b[A\n",
      "dataset_sula_global_epsg4326.tif windows:  16%|1| 342/2124 [00:18<01:31, 19.52it\u001b[A\n",
      "dataset_sula_global_epsg4326.tif windows:  16%|1| 345/2124 [00:18<01:28, 20.05it\u001b[A\n",
      "dataset_sula_global_epsg4326.tif windows:  16%|1| 348/2124 [00:18<01:27, 20.35it\u001b[A\n",
      "dataset_sula_global_epsg4326.tif windows:  17%|1| 351/2124 [00:19<01:48, 16.41it\u001b[A\n",
      "dataset_sula_global_epsg4326.tif windows:  17%|1| 353/2124 [00:19<01:44, 17.01it\u001b[A\n",
      "dataset_sula_global_epsg4326.tif windows:  17%|1| 356/2124 [00:19<01:38, 18.00it\u001b[A\n",
      "dataset_sula_global_epsg4326.tif windows:  17%|1| 359/2124 [00:19<01:34, 18.70it\u001b[A\n",
      "dataset_sula_global_epsg4326.tif windows:  17%|1| 361/2124 [00:19<01:34, 18.74it\u001b[A\n",
      "dataset_sula_global_epsg4326.tif windows:  17%|1| 363/2124 [00:19<01:32, 19.00it\u001b[A\n",
      "dataset_sula_global_epsg4326.tif windows:  17%|1| 365/2124 [00:19<01:32, 19.06it\u001b[A\n",
      "dataset_sula_global_epsg4326.tif windows:  17%|1| 367/2124 [00:20<01:31, 19.21it\u001b[A\n",
      "dataset_sula_global_epsg4326.tif windows:  17%|1| 369/2124 [00:20<01:35, 18.34it\u001b[A\n",
      "dataset_sula_global_epsg4326.tif windows:  17%|1| 371/2124 [00:20<01:35, 18.42it\u001b[A\n",
      "dataset_sula_global_epsg4326.tif windows:  18%|1| 374/2124 [00:20<01:32, 18.92it\u001b[A\n",
      "dataset_sula_global_epsg4326.tif windows:  18%|1| 377/2124 [00:20<01:29, 19.60it\u001b[A\n",
      "dataset_sula_global_epsg4326.tif windows:  18%|1| 380/2124 [00:20<01:28, 19.74it\u001b[A\n",
      "dataset_sula_global_epsg4326.tif windows:  18%|1| 382/2124 [00:20<01:27, 19.80it\u001b[A\n",
      "dataset_sula_global_epsg4326.tif windows:  18%|1| 385/2124 [00:20<01:28, 19.73it\u001b[A\n",
      "dataset_sula_global_epsg4326.tif windows:  18%|1| 387/2124 [00:21<01:50, 15.77it\u001b[A\n",
      "dataset_sula_global_epsg4326.tif windows:  18%|1| 390/2124 [00:21<01:41, 17.12it\u001b[A\n",
      "dataset_sula_global_epsg4326.tif windows:  19%|1| 393/2124 [00:21<01:35, 18.04it\u001b[A\n",
      "dataset_sula_global_epsg4326.tif windows:  19%|1| 396/2124 [00:21<01:32, 18.78it\u001b[A\n",
      "dataset_sula_global_epsg4326.tif windows:  19%|1| 398/2124 [00:21<01:31, 18.84it\u001b[A\n",
      "dataset_sula_global_epsg4326.tif windows:  19%|1| 400/2124 [00:21<01:34, 18.18it\u001b[A\n",
      "dataset_sula_global_epsg4326.tif windows:  19%|1| 402/2124 [00:21<01:36, 17.87it\u001b[A\n",
      "dataset_sula_global_epsg4326.tif windows:  19%|1| 405/2124 [00:22<01:32, 18.57it\u001b[A\n",
      "dataset_sula_global_epsg4326.tif windows:  19%|1| 407/2124 [00:22<01:35, 18.02it\u001b[A\n",
      "dataset_sula_global_epsg4326.tif windows:  19%|1| 409/2124 [00:22<01:34, 18.12it\u001b[A\n",
      "dataset_sula_global_epsg4326.tif windows:  19%|1| 411/2124 [00:22<01:32, 18.44it\u001b[A\n",
      "dataset_sula_global_epsg4326.tif windows:  19%|1| 413/2124 [00:22<01:31, 18.65it\u001b[A\n",
      "dataset_sula_global_epsg4326.tif windows:  20%|1| 415/2124 [00:22<01:33, 18.20it\u001b[A\n",
      "dataset_sula_global_epsg4326.tif windows:  20%|1| 417/2124 [00:22<01:32, 18.43it\u001b[A\n",
      "dataset_sula_global_epsg4326.tif windows:  20%|1| 420/2124 [00:22<01:29, 19.03it\u001b[A\n",
      "dataset_sula_global_epsg4326.tif windows:  20%|1| 422/2124 [00:23<02:02, 13.92it\u001b[A\n",
      "dataset_sula_global_epsg4326.tif windows:  20%|2| 425/2124 [00:23<01:49, 15.51it\u001b[A\n",
      "dataset_sula_global_epsg4326.tif windows:  20%|2| 428/2124 [00:23<01:40, 16.91it\u001b[A\n",
      "dataset_sula_global_epsg4326.tif windows:  20%|2| 431/2124 [00:23<01:33, 18.19it\u001b[A\n",
      "dataset_sula_global_epsg4326.tif windows:  20%|2| 434/2124 [00:23<01:28, 19.04it\u001b[A\n",
      "dataset_sula_global_epsg4326.tif windows:  21%|2| 437/2124 [00:23<01:27, 19.35it\u001b[A\n",
      "dataset_sula_global_epsg4326.tif windows:  21%|2| 440/2124 [00:23<01:24, 19.86it\u001b[A\n",
      "dataset_sula_global_epsg4326.tif windows:  21%|2| 443/2124 [00:24<01:24, 19.94it\u001b[A\n",
      "dataset_sula_global_epsg4326.tif windows:  21%|2| 446/2124 [00:24<01:24, 19.84it\u001b[A\n",
      "dataset_sula_global_epsg4326.tif windows:  21%|2| 449/2124 [00:24<01:23, 20.16it\u001b[A\n",
      "dataset_sula_global_epsg4326.tif windows:  21%|2| 452/2124 [00:24<01:21, 20.40it\u001b[A\n",
      "dataset_sula_global_epsg4326.tif windows:  21%|2| 455/2124 [00:24<01:21, 20.43it\u001b[A\n",
      "dataset_sula_global_epsg4326.tif windows:  22%|2| 458/2124 [00:25<01:41, 16.43it\u001b[A\n",
      "dataset_sula_global_epsg4326.tif windows:  22%|2| 460/2124 [00:25<01:39, 16.71it\u001b[A\n",
      "dataset_sula_global_epsg4326.tif windows:  22%|2| 462/2124 [00:25<01:36, 17.15it\u001b[A\n",
      "dataset_sula_global_epsg4326.tif windows:  22%|2| 464/2124 [00:25<01:34, 17.49it\u001b[A\n",
      "dataset_sula_global_epsg4326.tif windows:  22%|2| 467/2124 [00:25<01:28, 18.78it\u001b[A\n",
      "dataset_sula_global_epsg4326.tif windows:  22%|2| 470/2124 [00:25<01:25, 19.36it\u001b[A\n",
      "dataset_sula_global_epsg4326.tif windows:  22%|2| 473/2124 [00:25<01:24, 19.65it\u001b[A\n",
      "dataset_sula_global_epsg4326.tif windows:  22%|2| 475/2124 [00:25<01:23, 19.65it\u001b[A\n",
      "dataset_sula_global_epsg4326.tif windows:  22%|2| 477/2124 [00:25<01:23, 19.69it\u001b[A\n",
      "dataset_sula_global_epsg4326.tif windows:  23%|2| 480/2124 [00:26<01:22, 19.86it\u001b[A\n",
      "dataset_sula_global_epsg4326.tif windows:  23%|2| 483/2124 [00:26<01:21, 20.09it\u001b[A\n",
      "dataset_sula_global_epsg4326.tif windows:  23%|2| 486/2124 [00:26<01:23, 19.65it\u001b[A\n",
      "dataset_sula_global_epsg4326.tif windows:  23%|2| 489/2124 [00:26<01:22, 19.78it\u001b[A\n",
      "dataset_sula_global_epsg4326.tif windows:  23%|2| 491/2124 [00:26<01:40, 16.26it\u001b[A\n",
      "dataset_sula_global_epsg4326.tif windows:  23%|2| 493/2124 [00:26<01:35, 17.01it\u001b[A\n",
      "dataset_sula_global_epsg4326.tif windows:  23%|2| 496/2124 [00:27<01:29, 18.09it\u001b[A\n",
      "dataset_sula_global_epsg4326.tif windows:  23%|2| 499/2124 [00:27<01:24, 19.27it\u001b[A\n",
      "dataset_sula_global_epsg4326.tif windows:  24%|2| 501/2124 [00:27<01:23, 19.37it\u001b[A\n",
      "dataset_sula_global_epsg4326.tif windows:  24%|2| 503/2124 [00:27<01:24, 19.28it\u001b[A\n",
      "dataset_sula_global_epsg4326.tif windows:  24%|2| 506/2124 [00:27<01:21, 19.93it\u001b[A\n",
      "dataset_sula_global_epsg4326.tif windows:  24%|2| 509/2124 [00:27<01:20, 20.10it\u001b[A\n",
      "dataset_sula_global_epsg4326.tif windows:  24%|2| 512/2124 [00:27<01:20, 20.14it\u001b[A\n",
      "dataset_sula_global_epsg4326.tif windows:  24%|2| 515/2124 [00:27<01:19, 20.14it\u001b[A\n",
      "dataset_sula_global_epsg4326.tif windows:  24%|2| 518/2124 [00:28<01:21, 19.69it\u001b[A\n",
      "dataset_sula_global_epsg4326.tif windows:  24%|2| 520/2124 [00:28<01:21, 19.61it\u001b[A\n",
      "dataset_sula_global_epsg4326.tif windows:  25%|2| 523/2124 [00:28<01:19, 20.05it\u001b[A\n",
      "dataset_sula_global_epsg4326.tif windows:  25%|2| 526/2124 [00:28<01:47, 14.80it\u001b[A\n",
      "dataset_sula_global_epsg4326.tif windows:  25%|2| 529/2124 [00:28<01:37, 16.34it\u001b[A\n",
      "dataset_sula_global_epsg4326.tif windows:  25%|2| 532/2124 [00:28<01:31, 17.35it\u001b[A\n",
      "dataset_sula_global_epsg4326.tif windows:  25%|2| 534/2124 [00:29<01:29, 17.73it\u001b[A\n",
      "dataset_sula_global_epsg4326.tif windows:  25%|2| 537/2124 [00:29<01:25, 18.61it\u001b[A\n",
      "dataset_sula_global_epsg4326.tif windows:  25%|2| 540/2124 [00:29<01:21, 19.48it\u001b[A\n",
      "dataset_sula_global_epsg4326.tif windows:  26%|2| 543/2124 [00:29<01:20, 19.64it\u001b[A\n",
      "dataset_sula_global_epsg4326.tif windows:  26%|2| 546/2124 [00:29<01:18, 20.05it\u001b[A\n",
      "dataset_sula_global_epsg4326.tif windows:  26%|2| 549/2124 [00:29<01:16, 20.49it\u001b[A\n",
      "dataset_sula_global_epsg4326.tif windows:  26%|2| 552/2124 [00:29<01:19, 19.84it\u001b[A\n",
      "dataset_sula_global_epsg4326.tif windows:  26%|2| 555/2124 [00:30<01:18, 19.98it\u001b[A\n",
      "dataset_sula_global_epsg4326.tif windows:  26%|2| 558/2124 [00:30<01:18, 19.96it\u001b[A\n",
      "dataset_sula_global_epsg4326.tif windows:  26%|2| 561/2124 [00:30<01:34, 16.62it\u001b[A\n",
      "dataset_sula_global_epsg4326.tif windows:  27%|2| 564/2124 [00:30<01:27, 17.82it\u001b[A\n",
      "dataset_sula_global_epsg4326.tif windows:  27%|2| 567/2124 [00:30<01:22, 18.89it\u001b[A\n",
      "dataset_sula_global_epsg4326.tif windows:  27%|2| 570/2124 [00:30<01:19, 19.57it\u001b[A\n",
      "dataset_sula_global_epsg4326.tif windows:  27%|2| 573/2124 [00:31<01:17, 20.10it\u001b[A\n",
      "dataset_sula_global_epsg4326.tif windows:  27%|2| 576/2124 [00:31<01:16, 20.19it\u001b[A\n",
      "dataset_sula_global_epsg4326.tif windows:  27%|2| 579/2124 [00:31<01:16, 20.20it\u001b[A\n",
      "dataset_sula_global_epsg4326.tif windows:  27%|2| 582/2124 [00:31<01:17, 19.97it\u001b[A\n",
      "dataset_sula_global_epsg4326.tif windows:  28%|2| 585/2124 [00:31<01:17, 19.95it\u001b[A\n",
      "dataset_sula_global_epsg4326.tif windows:  28%|2| 588/2124 [00:31<01:15, 20.22it\u001b[A\n",
      "dataset_sula_global_epsg4326.tif windows:  28%|2| 591/2124 [00:31<01:14, 20.46it\u001b[A\n",
      "dataset_sula_global_epsg4326.tif windows:  28%|2| 594/2124 [00:32<01:13, 20.76it\u001b[A\n",
      "dataset_sula_global_epsg4326.tif windows:  28%|2| 597/2124 [00:32<01:27, 17.46it\u001b[A\n",
      "dataset_sula_global_epsg4326.tif windows:  28%|2| 600/2124 [00:32<01:22, 18.41it\u001b[A\n",
      "dataset_sula_global_epsg4326.tif windows:  28%|2| 603/2124 [00:32<01:19, 19.04it\u001b[A\n",
      "dataset_sula_global_epsg4326.tif windows:  29%|2| 606/2124 [00:32<01:17, 19.55it\u001b[A\n",
      "dataset_sula_global_epsg4326.tif windows:  29%|2| 609/2124 [00:32<01:14, 20.21it\u001b[A\n",
      "dataset_sula_global_epsg4326.tif windows:  29%|2| 612/2124 [00:32<01:12, 20.87it\u001b[A\n",
      "dataset_sula_global_epsg4326.tif windows:  29%|2| 615/2124 [00:33<01:12, 20.71it\u001b[A\n",
      "dataset_sula_global_epsg4326.tif windows:  29%|2| 618/2124 [00:33<01:11, 20.96it\u001b[A\n",
      "dataset_sula_global_epsg4326.tif windows:  29%|2| 621/2124 [00:33<01:11, 20.89it\u001b[A\n",
      "dataset_sula_global_epsg4326.tif windows:  29%|2| 624/2124 [00:33<01:12, 20.66it\u001b[A\n",
      "dataset_sula_global_epsg4326.tif windows:  30%|2| 627/2124 [00:33<01:11, 20.80it\u001b[A\n",
      "dataset_sula_global_epsg4326.tif windows:  30%|2| 630/2124 [00:33<01:11, 21.00it\u001b[A\n",
      "dataset_sula_global_epsg4326.tif windows:  30%|2| 633/2124 [00:34<01:32, 16.10it\u001b[A\n",
      "dataset_sula_global_epsg4326.tif windows:  30%|2| 636/2124 [00:34<01:27, 17.10it\u001b[A\n",
      "dataset_sula_global_epsg4326.tif windows:  30%|3| 639/2124 [00:34<01:23, 17.87it\u001b[A\n",
      "dataset_sula_global_epsg4326.tif windows:  30%|3| 641/2124 [00:34<01:21, 18.14it\u001b[A\n",
      "dataset_sula_global_epsg4326.tif windows:  30%|3| 644/2124 [00:34<01:18, 18.95it\u001b[A\n",
      "dataset_sula_global_epsg4326.tif windows:  30%|3| 647/2124 [00:34<01:16, 19.43it\u001b[A\n",
      "dataset_sula_global_epsg4326.tif windows:  31%|3| 650/2124 [00:34<01:15, 19.43it\u001b[A\n",
      "dataset_sula_global_epsg4326.tif windows:  31%|3| 652/2124 [00:35<01:20, 18.28it\u001b[A\n",
      "dataset_sula_global_epsg4326.tif windows:  31%|3| 655/2124 [00:35<01:18, 18.67it\u001b[A\n",
      "dataset_sula_global_epsg4326.tif windows:  31%|3| 658/2124 [00:35<01:16, 19.26it\u001b[A\n",
      "dataset_sula_global_epsg4326.tif windows:  31%|3| 661/2124 [00:35<01:14, 19.71it\u001b[A\n",
      "dataset_sula_global_epsg4326.tif windows:  31%|3| 664/2124 [00:35<01:14, 19.67it\u001b[A\n",
      "dataset_sula_global_epsg4326.tif windows:  31%|3| 666/2124 [00:35<01:31, 16.01it\u001b[A\n",
      "dataset_sula_global_epsg4326.tif windows:  31%|3| 669/2124 [00:36<01:23, 17.37it\u001b[A\n",
      "dataset_sula_global_epsg4326.tif windows:  32%|3| 671/2124 [00:36<01:22, 17.67it\u001b[A\n",
      "dataset_sula_global_epsg4326.tif windows:  32%|3| 673/2124 [00:36<01:20, 18.12it\u001b[A\n",
      "dataset_sula_global_epsg4326.tif windows:  32%|3| 676/2124 [00:36<01:17, 18.75it\u001b[A\n",
      "dataset_sula_global_epsg4326.tif windows:  32%|3| 678/2124 [00:36<01:17, 18.77it\u001b[A\n",
      "dataset_sula_global_epsg4326.tif windows:  32%|3| 680/2124 [00:36<01:16, 18.88it\u001b[A\n",
      "dataset_sula_global_epsg4326.tif windows:  32%|3| 683/2124 [00:36<01:12, 19.77it\u001b[A\n",
      "dataset_sula_global_epsg4326.tif windows:  32%|3| 686/2124 [00:36<01:10, 20.28it\u001b[A\n",
      "dataset_sula_global_epsg4326.tif windows:  32%|3| 689/2124 [00:37<01:11, 20.13it\u001b[A\n",
      "dataset_sula_global_epsg4326.tif windows:  33%|3| 692/2124 [00:37<01:09, 20.54it\u001b[A\n",
      "dataset_sula_global_epsg4326.tif windows:  33%|3| 695/2124 [00:37<01:09, 20.45it\u001b[A\n",
      "dataset_sula_global_epsg4326.tif windows:  33%|3| 698/2124 [00:37<01:09, 20.55it\u001b[A\n",
      "dataset_sula_global_epsg4326.tif windows:  33%|3| 701/2124 [00:37<01:25, 16.66it\u001b[A\n",
      "dataset_sula_global_epsg4326.tif windows:  33%|3| 704/2124 [00:37<01:19, 17.79it\u001b[A\n",
      "dataset_sula_global_epsg4326.tif windows:  33%|3| 707/2124 [00:38<01:14, 19.06it\u001b[A\n",
      "dataset_sula_global_epsg4326.tif windows:  33%|3| 710/2124 [00:38<01:12, 19.44it\u001b[A\n",
      "dataset_sula_global_epsg4326.tif windows:  34%|3| 713/2124 [00:38<01:09, 20.22it\u001b[A\n",
      "dataset_sula_global_epsg4326.tif windows:  34%|3| 716/2124 [00:38<01:08, 20.43it\u001b[A\n",
      "dataset_sula_global_epsg4326.tif windows:  34%|3| 719/2124 [00:38<01:07, 20.71it\u001b[A\n",
      "dataset_sula_global_epsg4326.tif windows:  34%|3| 722/2124 [00:38<01:06, 21.02it\u001b[A\n",
      "dataset_sula_global_epsg4326.tif windows:  34%|3| 725/2124 [00:38<01:05, 21.23it\u001b[A\n",
      "dataset_sula_global_epsg4326.tif windows:  34%|3| 728/2124 [00:39<01:05, 21.31it\u001b[A\n",
      "dataset_sula_global_epsg4326.tif windows:  34%|3| 731/2124 [00:39<01:08, 20.41it\u001b[A\n",
      "dataset_sula_global_epsg4326.tif windows:  35%|3| 734/2124 [00:39<01:08, 20.39it\u001b[A\n",
      "dataset_sula_global_epsg4326.tif windows:  35%|3| 737/2124 [00:39<01:28, 15.67it\u001b[A\n",
      "dataset_sula_global_epsg4326.tif windows:  35%|3| 740/2124 [00:39<01:21, 17.08it\u001b[A\n",
      "dataset_sula_global_epsg4326.tif windows:  35%|3| 743/2124 [00:39<01:16, 18.01it\u001b[A\n",
      "dataset_sula_global_epsg4326.tif windows:  35%|3| 746/2124 [00:40<01:11, 19.14it\u001b[A\n",
      "dataset_sula_global_epsg4326.tif windows:  35%|3| 749/2124 [00:40<01:11, 19.35it\u001b[A\n",
      "dataset_sula_global_epsg4326.tif windows:  35%|3| 752/2124 [00:40<01:10, 19.60it\u001b[A\n",
      "dataset_sula_global_epsg4326.tif windows:  36%|3| 755/2124 [00:40<01:09, 19.81it\u001b[A\n",
      "dataset_sula_global_epsg4326.tif windows:  36%|3| 758/2124 [00:40<01:07, 20.22it\u001b[A\n",
      "dataset_sula_global_epsg4326.tif windows:  36%|3| 761/2124 [00:40<01:07, 20.25it\u001b[A\n",
      "dataset_sula_global_epsg4326.tif windows:  36%|3| 764/2124 [00:40<01:05, 20.68it\u001b[A\n",
      "dataset_sula_global_epsg4326.tif windows:  36%|3| 767/2124 [00:41<01:05, 20.75it\u001b[A\n",
      "dataset_sula_global_epsg4326.tif windows:  36%|3| 770/2124 [00:41<01:04, 20.87it\u001b[A\n",
      "dataset_sula_global_epsg4326.tif windows:  36%|3| 773/2124 [00:41<01:20, 16.68it\u001b[A\n",
      "dataset_sula_global_epsg4326.tif windows:  37%|3| 776/2124 [00:41<01:15, 17.77it\u001b[A\n",
      "dataset_sula_global_epsg4326.tif windows:  37%|3| 779/2124 [00:41<01:12, 18.61it\u001b[A\n",
      "dataset_sula_global_epsg4326.tif windows:  37%|3| 782/2124 [00:41<01:09, 19.45it\u001b[A\n",
      "dataset_sula_global_epsg4326.tif windows:  37%|3| 785/2124 [00:42<01:07, 19.86it\u001b[A\n",
      "dataset_sula_global_epsg4326.tif windows:  37%|3| 788/2124 [00:42<01:08, 19.42it\u001b[A\n",
      "dataset_sula_global_epsg4326.tif windows:  37%|3| 790/2124 [00:42<01:11, 18.58it\u001b[A\n",
      "dataset_sula_global_epsg4326.tif windows:  37%|3| 793/2124 [00:42<01:08, 19.30it\u001b[A\n",
      "dataset_sula_global_epsg4326.tif windows:  37%|3| 796/2124 [00:42<01:08, 19.44it\u001b[A\n",
      "dataset_sula_global_epsg4326.tif windows:  38%|3| 799/2124 [00:42<01:05, 20.10it\u001b[A\n",
      "dataset_sula_global_epsg4326.tif windows:  38%|3| 802/2124 [00:42<01:06, 19.98it\u001b[A\n",
      "dataset_sula_global_epsg4326.tif windows:  38%|3| 805/2124 [00:43<01:04, 20.46it\u001b[A\n",
      "dataset_sula_global_epsg4326.tif windows:  38%|3| 808/2124 [00:43<01:18, 16.67it\u001b[A\n",
      "dataset_sula_global_epsg4326.tif windows:  38%|3| 811/2124 [00:43<01:14, 17.51it\u001b[A\n",
      "dataset_sula_global_epsg4326.tif windows:  38%|3| 813/2124 [00:43<01:14, 17.65it\u001b[A\n",
      "dataset_sula_global_epsg4326.tif windows:  38%|3| 816/2124 [00:43<01:09, 18.81it\u001b[A\n",
      "dataset_sula_global_epsg4326.tif windows:  39%|3| 818/2124 [00:43<01:08, 19.05it\u001b[A\n",
      "dataset_sula_global_epsg4326.tif windows:  39%|3| 820/2124 [00:43<01:07, 19.19it\u001b[A\n",
      "dataset_sula_global_epsg4326.tif windows:  39%|3| 823/2124 [00:44<01:05, 20.00it\u001b[A\n",
      "dataset_sula_global_epsg4326.tif windows:  39%|3| 826/2124 [00:44<01:04, 20.22it\u001b[A\n",
      "dataset_sula_global_epsg4326.tif windows:  39%|3| 829/2124 [00:44<01:03, 20.31it\u001b[A\n",
      "dataset_sula_global_epsg4326.tif windows:  39%|3| 832/2124 [00:44<01:04, 20.05it\u001b[A\n",
      "dataset_sula_global_epsg4326.tif windows:  39%|3| 835/2124 [00:44<01:07, 19.23it\u001b[A\n",
      "dataset_sula_global_epsg4326.tif windows:  39%|3| 837/2124 [00:44<01:06, 19.28it\u001b[A\n",
      "dataset_sula_global_epsg4326.tif windows:  40%|3| 840/2124 [00:44<01:05, 19.55it\u001b[A\n",
      "dataset_sula_global_epsg4326.tif windows:  40%|3| 842/2124 [00:45<01:23, 15.33it\u001b[A\n",
      "dataset_sula_global_epsg4326.tif windows:  40%|3| 845/2124 [00:45<01:16, 16.75it\u001b[A\n",
      "dataset_sula_global_epsg4326.tif windows:  40%|3| 848/2124 [00:45<01:12, 17.63it\u001b[A\n",
      "dataset_sula_global_epsg4326.tif windows:  40%|4| 850/2124 [00:45<01:10, 18.02it\u001b[A\n",
      "dataset_sula_global_epsg4326.tif windows:  40%|4| 852/2124 [00:45<01:09, 18.27it\u001b[A\n",
      "dataset_sula_global_epsg4326.tif windows:  40%|4| 854/2124 [00:45<01:08, 18.55it\u001b[A\n",
      "dataset_sula_global_epsg4326.tif windows:  40%|4| 857/2124 [00:45<01:04, 19.62it\u001b[A\n",
      "dataset_sula_global_epsg4326.tif windows:  40%|4| 860/2124 [00:46<01:02, 20.26it\u001b[A\n",
      "dataset_sula_global_epsg4326.tif windows:  41%|4| 863/2124 [00:46<01:00, 20.97it\u001b[A\n",
      "dataset_sula_global_epsg4326.tif windows:  41%|4| 866/2124 [00:46<01:02, 20.04it\u001b[A\n",
      "dataset_sula_global_epsg4326.tif windows:  41%|4| 869/2124 [00:46<01:04, 19.52it\u001b[A\n",
      "dataset_sula_global_epsg4326.tif windows:  41%|4| 872/2124 [00:46<01:02, 20.18it\u001b[A\n",
      "dataset_sula_global_epsg4326.tif windows:  41%|4| 875/2124 [00:46<01:02, 19.91it\u001b[A\n",
      "dataset_sula_global_epsg4326.tif windows:  41%|4| 878/2124 [00:47<01:17, 16.16it\u001b[A\n",
      "dataset_sula_global_epsg4326.tif windows:  41%|4| 881/2124 [00:47<01:11, 17.46it\u001b[A\n",
      "dataset_sula_global_epsg4326.tif windows:  42%|4| 884/2124 [00:47<01:08, 18.02it\u001b[A\n",
      "dataset_sula_global_epsg4326.tif windows:  42%|4| 887/2124 [00:47<01:06, 18.63it\u001b[A\n",
      "dataset_sula_global_epsg4326.tif windows:  42%|4| 890/2124 [00:47<01:03, 19.58it\u001b[A\n",
      "dataset_sula_global_epsg4326.tif windows:  42%|4| 893/2124 [00:47<01:01, 20.10it\u001b[A\n",
      "dataset_sula_global_epsg4326.tif windows:  42%|4| 896/2124 [00:47<01:00, 20.24it\u001b[A\n",
      "dataset_sula_global_epsg4326.tif windows:  42%|4| 899/2124 [00:48<00:59, 20.72it\u001b[A\n",
      "dataset_sula_global_epsg4326.tif windows:  42%|4| 902/2124 [00:48<00:58, 20.72it\u001b[A\n",
      "dataset_sula_global_epsg4326.tif windows:  43%|4| 905/2124 [00:48<00:58, 20.79it\u001b[A\n",
      "dataset_sula_global_epsg4326.tif windows:  43%|4| 908/2124 [00:48<00:58, 20.89it\u001b[A\n",
      "dataset_sula_global_epsg4326.tif windows:  43%|4| 911/2124 [00:48<01:14, 16.32it\u001b[A\n",
      "dataset_sula_global_epsg4326.tif windows:  43%|4| 914/2124 [00:48<01:08, 17.62it\u001b[A\n",
      "dataset_sula_global_epsg4326.tif windows:  43%|4| 917/2124 [00:49<01:05, 18.56it\u001b[A\n",
      "dataset_sula_global_epsg4326.tif windows:  43%|4| 919/2124 [00:49<01:04, 18.76it\u001b[A\n",
      "dataset_sula_global_epsg4326.tif windows:  43%|4| 922/2124 [00:49<01:01, 19.40it\u001b[A\n",
      "dataset_sula_global_epsg4326.tif windows:  44%|4| 925/2124 [00:49<01:00, 19.68it\u001b[A\n",
      "dataset_sula_global_epsg4326.tif windows:  44%|4| 928/2124 [00:49<00:58, 20.32it\u001b[A\n",
      "dataset_sula_global_epsg4326.tif windows:  44%|4| 931/2124 [00:49<00:58, 20.44it\u001b[A\n",
      "dataset_sula_global_epsg4326.tif windows:  44%|4| 934/2124 [00:49<00:57, 20.66it\u001b[A\n",
      "dataset_sula_global_epsg4326.tif windows:  44%|4| 937/2124 [00:49<00:56, 21.12it\u001b[A\n",
      "dataset_sula_global_epsg4326.tif windows:  44%|4| 940/2124 [00:50<00:57, 20.47it\u001b[A\n",
      "dataset_sula_global_epsg4326.tif windows:  44%|4| 943/2124 [00:50<00:58, 20.07it\u001b[A\n",
      "dataset_sula_global_epsg4326.tif windows:  45%|4| 946/2124 [00:50<01:17, 15.14it\u001b[A\n",
      "dataset_sula_global_epsg4326.tif windows:  45%|4| 949/2124 [00:50<01:12, 16.30it\u001b[A\n",
      "dataset_sula_global_epsg4326.tif windows:  45%|4| 952/2124 [00:50<01:05, 17.77it\u001b[A\n",
      "dataset_sula_global_epsg4326.tif windows:  45%|4| 955/2124 [00:51<01:02, 18.79it\u001b[A\n",
      "dataset_sula_global_epsg4326.tif windows:  45%|4| 958/2124 [00:51<00:59, 19.76it\u001b[A\n",
      "dataset_sula_global_epsg4326.tif windows:  45%|4| 961/2124 [00:51<00:57, 20.29it\u001b[A\n",
      "dataset_sula_global_epsg4326.tif windows:  45%|4| 964/2124 [00:51<00:56, 20.46it\u001b[A\n",
      "dataset_sula_global_epsg4326.tif windows:  46%|4| 967/2124 [00:51<00:55, 20.72it\u001b[A\n",
      "dataset_sula_global_epsg4326.tif windows:  46%|4| 970/2124 [00:51<00:54, 21.19it\u001b[A\n",
      "dataset_sula_global_epsg4326.tif windows:  46%|4| 973/2124 [00:51<00:54, 21.18it\u001b[A\n",
      "dataset_sula_global_epsg4326.tif windows:  46%|4| 976/2124 [00:51<00:53, 21.30it\u001b[A\n",
      "dataset_sula_global_epsg4326.tif windows:  46%|4| 979/2124 [00:52<00:53, 21.23it\u001b[A\n",
      "dataset_sula_global_epsg4326.tif windows:  46%|4| 982/2124 [00:52<01:08, 16.69it\u001b[A\n",
      "dataset_sula_global_epsg4326.tif windows:  46%|4| 985/2124 [00:52<01:04, 17.76it\u001b[A\n",
      "dataset_sula_global_epsg4326.tif windows:  46%|4| 987/2124 [00:52<01:02, 18.20it\u001b[A\n",
      "dataset_sula_global_epsg4326.tif windows:  47%|4| 989/2124 [00:52<01:01, 18.37it\u001b[A\n",
      "dataset_sula_global_epsg4326.tif windows:  47%|4| 991/2124 [00:52<01:00, 18.62it\u001b[A\n",
      "dataset_sula_global_epsg4326.tif windows:  47%|4| 994/2124 [00:52<00:57, 19.58it\u001b[A\n",
      "dataset_sula_global_epsg4326.tif windows:  47%|4| 997/2124 [00:53<00:54, 20.53it\u001b[A\n",
      "dataset_sula_global_epsg4326.tif windows:  47%|4| 1000/2124 [00:53<00:53, 20.86i\u001b[A\n",
      "dataset_sula_global_epsg4326.tif windows:  47%|4| 1003/2124 [00:53<00:53, 20.95i\u001b[A\n",
      "dataset_sula_global_epsg4326.tif windows:  47%|4| 1006/2124 [00:53<00:53, 21.09i\u001b[A\n",
      "dataset_sula_global_epsg4326.tif windows:  48%|4| 1009/2124 [00:53<00:51, 21.55i\u001b[A\n",
      "dataset_sula_global_epsg4326.tif windows:  48%|4| 1012/2124 [00:53<00:51, 21.51i\u001b[A\n",
      "dataset_sula_global_epsg4326.tif windows:  48%|4| 1015/2124 [00:53<00:50, 21.76i\u001b[A\n",
      "dataset_sula_global_epsg4326.tif windows:  48%|4| 1018/2124 [00:54<01:04, 17.18i\u001b[A\n",
      "dataset_sula_global_epsg4326.tif windows:  48%|4| 1021/2124 [00:54<01:00, 18.35i\u001b[A\n",
      "dataset_sula_global_epsg4326.tif windows:  48%|4| 1024/2124 [00:54<00:57, 19.12i\u001b[A\n",
      "dataset_sula_global_epsg4326.tif windows:  48%|4| 1027/2124 [00:54<00:55, 19.70i\u001b[A\n",
      "dataset_sula_global_epsg4326.tif windows:  48%|4| 1030/2124 [00:54<00:53, 20.32i\u001b[A\n",
      "dataset_sula_global_epsg4326.tif windows:  49%|4| 1033/2124 [00:54<00:53, 20.25i\u001b[A\n",
      "dataset_sula_global_epsg4326.tif windows:  49%|4| 1036/2124 [00:55<00:55, 19.66i\u001b[A\n",
      "dataset_sula_global_epsg4326.tif windows:  49%|4| 1039/2124 [00:55<00:55, 19.60i\u001b[A\n",
      "dataset_sula_global_epsg4326.tif windows:  49%|4| 1041/2124 [00:55<00:56, 19.29i\u001b[A\n",
      "dataset_sula_global_epsg4326.tif windows:  49%|4| 1043/2124 [00:55<00:55, 19.37i\u001b[A\n",
      "dataset_sula_global_epsg4326.tif windows:  49%|4| 1046/2124 [00:55<00:54, 19.77i\u001b[A\n",
      "dataset_sula_global_epsg4326.tif windows:  49%|4| 1049/2124 [00:55<00:52, 20.46i\u001b[A\n",
      "dataset_sula_global_epsg4326.tif windows:  50%|4| 1052/2124 [00:56<01:09, 15.41i\u001b[A\n",
      "dataset_sula_global_epsg4326.tif windows:  50%|4| 1055/2124 [00:56<01:03, 16.74i\u001b[A\n",
      "dataset_sula_global_epsg4326.tif windows:  50%|4| 1058/2124 [00:56<00:59, 17.87i\u001b[A\n",
      "dataset_sula_global_epsg4326.tif windows:  50%|4| 1060/2124 [00:56<00:58, 18.12i\u001b[A\n",
      "dataset_sula_global_epsg4326.tif windows:  50%|5| 1063/2124 [00:56<00:54, 19.30i\u001b[A\n",
      "dataset_sula_global_epsg4326.tif windows:  50%|5| 1066/2124 [00:56<00:52, 19.99i\u001b[A\n",
      "dataset_sula_global_epsg4326.tif windows:  50%|5| 1069/2124 [00:56<00:52, 20.26i\u001b[A\n",
      "dataset_sula_global_epsg4326.tif windows:  50%|5| 1072/2124 [00:56<00:52, 19.87i\u001b[A\n",
      "dataset_sula_global_epsg4326.tif windows:  51%|5| 1075/2124 [00:57<00:51, 20.40i\u001b[A\n",
      "dataset_sula_global_epsg4326.tif windows:  51%|5| 1078/2124 [00:57<00:50, 20.55i\u001b[A\n",
      "dataset_sula_global_epsg4326.tif windows:  51%|5| 1081/2124 [00:57<00:52, 19.73i\u001b[A\n",
      "dataset_sula_global_epsg4326.tif windows:  51%|5| 1083/2124 [00:57<00:52, 19.75i\u001b[A\n",
      "dataset_sula_global_epsg4326.tif windows:  51%|5| 1086/2124 [00:57<01:04, 16.17i\u001b[A\n",
      "dataset_sula_global_epsg4326.tif windows:  51%|5| 1089/2124 [00:57<00:58, 17.60i\u001b[A\n",
      "dataset_sula_global_epsg4326.tif windows:  51%|5| 1092/2124 [00:58<00:55, 18.69i\u001b[A\n",
      "dataset_sula_global_epsg4326.tif windows:  52%|5| 1095/2124 [00:58<00:53, 19.40i\u001b[A\n",
      "dataset_sula_global_epsg4326.tif windows:  52%|5| 1098/2124 [00:58<00:53, 19.24i\u001b[A\n",
      "dataset_sula_global_epsg4326.tif windows:  52%|5| 1101/2124 [00:58<00:52, 19.54i\u001b[A\n",
      "dataset_sula_global_epsg4326.tif windows:  52%|5| 1104/2124 [00:58<00:50, 20.10i\u001b[A\n",
      "dataset_sula_global_epsg4326.tif windows:  52%|5| 1107/2124 [00:58<00:51, 19.74i\u001b[A\n",
      "dataset_sula_global_epsg4326.tif windows:  52%|5| 1109/2124 [00:58<00:52, 19.44i\u001b[A\n",
      "dataset_sula_global_epsg4326.tif windows:  52%|5| 1111/2124 [00:59<00:53, 18.81i\u001b[A\n",
      "dataset_sula_global_epsg4326.tif windows:  52%|5| 1114/2124 [00:59<00:51, 19.46i\u001b[A\n",
      "dataset_sula_global_epsg4326.tif windows:  53%|5| 1117/2124 [00:59<00:51, 19.68i\u001b[A\n",
      "dataset_sula_global_epsg4326.tif windows:  53%|5| 1120/2124 [00:59<00:50, 20.03i\u001b[A\n",
      "dataset_sula_global_epsg4326.tif windows:  53%|5| 1122/2124 [00:59<01:00, 16.49i\u001b[A\n",
      "dataset_sula_global_epsg4326.tif windows:  53%|5| 1125/2124 [00:59<00:56, 17.80i\u001b[A\n",
      "dataset_sula_global_epsg4326.tif windows:  53%|5| 1127/2124 [00:59<00:54, 18.28i\u001b[A\n",
      "dataset_sula_global_epsg4326.tif windows:  53%|5| 1130/2124 [01:00<00:52, 19.07i\u001b[A\n",
      "dataset_sula_global_epsg4326.tif windows:  53%|5| 1132/2124 [01:00<00:52, 18.78i\u001b[A\n",
      "dataset_sula_global_epsg4326.tif windows:  53%|5| 1135/2124 [01:00<00:51, 19.28i\u001b[A\n",
      "dataset_sula_global_epsg4326.tif windows:  54%|5| 1138/2124 [01:00<00:48, 20.16i\u001b[A\n",
      "dataset_sula_global_epsg4326.tif windows:  54%|5| 1141/2124 [01:00<00:48, 20.17i\u001b[A\n",
      "dataset_sula_global_epsg4326.tif windows:  54%|5| 1144/2124 [01:00<00:48, 20.27i\u001b[A\n",
      "dataset_sula_global_epsg4326.tif windows:  54%|5| 1147/2124 [01:00<00:47, 20.41i\u001b[A\n",
      "dataset_sula_global_epsg4326.tif windows:  54%|5| 1150/2124 [01:01<00:46, 20.83i\u001b[A\n",
      "dataset_sula_global_epsg4326.tif windows:  54%|5| 1153/2124 [01:01<00:45, 21.18i\u001b[A\n",
      "dataset_sula_global_epsg4326.tif windows:  54%|5| 1156/2124 [01:01<00:58, 16.49i\u001b[A\n",
      "dataset_sula_global_epsg4326.tif windows:  55%|5| 1159/2124 [01:01<00:54, 17.65i\u001b[A\n",
      "dataset_sula_global_epsg4326.tif windows:  55%|5| 1162/2124 [01:01<00:51, 18.63i\u001b[A\n",
      "dataset_sula_global_epsg4326.tif windows:  55%|5| 1165/2124 [01:01<00:50, 19.04i\u001b[A\n",
      "dataset_sula_global_epsg4326.tif windows:  55%|5| 1168/2124 [01:02<00:49, 19.15i\u001b[A\n",
      "dataset_sula_global_epsg4326.tif windows:  55%|5| 1171/2124 [01:02<00:48, 19.63i\u001b[A\n",
      "dataset_sula_global_epsg4326.tif windows:  55%|5| 1174/2124 [01:02<00:47, 20.13i\u001b[A\n",
      "dataset_sula_global_epsg4326.tif windows:  55%|5| 1177/2124 [01:02<00:45, 20.78i\u001b[A\n",
      "dataset_sula_global_epsg4326.tif windows:  56%|5| 1180/2124 [01:02<00:46, 20.11i\u001b[A\n",
      "dataset_sula_global_epsg4326.tif windows:  56%|5| 1183/2124 [01:02<00:47, 19.67i\u001b[A\n",
      "dataset_sula_global_epsg4326.tif windows:  56%|5| 1185/2124 [01:02<00:47, 19.71i\u001b[A\n",
      "dataset_sula_global_epsg4326.tif windows:  56%|5| 1188/2124 [01:03<00:46, 20.25i\u001b[A\n",
      "dataset_sula_global_epsg4326.tif windows:  56%|5| 1191/2124 [01:03<00:55, 16.95i\u001b[A\n",
      "dataset_sula_global_epsg4326.tif windows:  56%|5| 1194/2124 [01:03<00:51, 18.01i\u001b[A\n",
      "dataset_sula_global_epsg4326.tif windows:  56%|5| 1197/2124 [01:03<00:48, 19.00i\u001b[A\n",
      "dataset_sula_global_epsg4326.tif windows:  56%|5| 1200/2124 [01:03<00:46, 19.83i\u001b[A\n",
      "dataset_sula_global_epsg4326.tif windows:  57%|5| 1203/2124 [01:03<00:45, 20.18i\u001b[A\n",
      "dataset_sula_global_epsg4326.tif windows:  57%|5| 1206/2124 [01:03<00:45, 20.26i\u001b[A\n",
      "dataset_sula_global_epsg4326.tif windows:  57%|5| 1209/2124 [01:04<00:45, 20.26i\u001b[A\n",
      "dataset_sula_global_epsg4326.tif windows:  57%|5| 1212/2124 [01:04<00:45, 20.16i\u001b[A\n",
      "dataset_sula_global_epsg4326.tif windows:  57%|5| 1215/2124 [01:04<00:44, 20.35i\u001b[A\n",
      "dataset_sula_global_epsg4326.tif windows:  57%|5| 1218/2124 [01:04<00:44, 20.54i\u001b[A\n",
      "dataset_sula_global_epsg4326.tif windows:  57%|5| 1221/2124 [01:04<00:45, 20.00i\u001b[A\n",
      "dataset_sula_global_epsg4326.tif windows:  58%|5| 1224/2124 [01:04<00:44, 20.08i\u001b[A\n",
      "dataset_sula_global_epsg4326.tif windows:  58%|5| 1227/2124 [01:05<00:55, 16.23i\u001b[A\n",
      "dataset_sula_global_epsg4326.tif windows:  58%|5| 1230/2124 [01:05<00:50, 17.56i\u001b[A\n",
      "dataset_sula_global_epsg4326.tif windows:  58%|5| 1232/2124 [01:05<00:49, 17.99i\u001b[A\n",
      "dataset_sula_global_epsg4326.tif windows:  58%|5| 1235/2124 [01:05<00:47, 18.60i\u001b[A\n",
      "dataset_sula_global_epsg4326.tif windows:  58%|5| 1238/2124 [01:05<00:45, 19.51i\u001b[A\n",
      "dataset_sula_global_epsg4326.tif windows:  58%|5| 1241/2124 [01:05<00:44, 20.05i\u001b[A\n",
      "dataset_sula_global_epsg4326.tif windows:  59%|5| 1244/2124 [01:05<00:43, 20.12i\u001b[A\n",
      "dataset_sula_global_epsg4326.tif windows:  59%|5| 1247/2124 [01:06<00:44, 19.89i\u001b[A\n",
      "dataset_sula_global_epsg4326.tif windows:  59%|5| 1250/2124 [01:06<00:44, 19.78i\u001b[A\n",
      "dataset_sula_global_epsg4326.tif windows:  59%|5| 1252/2124 [01:06<00:44, 19.81i\u001b[A\n",
      "dataset_sula_global_epsg4326.tif windows:  59%|5| 1255/2124 [01:06<00:43, 20.15i\u001b[A\n",
      "dataset_sula_global_epsg4326.tif windows:  59%|5| 1258/2124 [01:06<00:43, 19.97i\u001b[A\n",
      "dataset_sula_global_epsg4326.tif windows:  59%|5| 1261/2124 [01:06<00:55, 15.49i\u001b[A\n",
      "dataset_sula_global_epsg4326.tif windows:  59%|5| 1263/2124 [01:07<00:53, 16.18i\u001b[A\n",
      "dataset_sula_global_epsg4326.tif windows:  60%|5| 1266/2124 [01:07<00:48, 17.54i\u001b[A\n",
      "dataset_sula_global_epsg4326.tif windows:  60%|5| 1268/2124 [01:07<00:47, 18.00i\u001b[A\n",
      "dataset_sula_global_epsg4326.tif windows:  60%|5| 1270/2124 [01:07<00:46, 18.40i\u001b[A\n",
      "dataset_sula_global_epsg4326.tif windows:  60%|5| 1272/2124 [01:07<00:47, 18.10i\u001b[A\n",
      "dataset_sula_global_epsg4326.tif windows:  60%|6| 1275/2124 [01:07<00:44, 19.03i\u001b[A\n",
      "dataset_sula_global_epsg4326.tif windows:  60%|6| 1278/2124 [01:07<00:42, 19.88i\u001b[A\n",
      "dataset_sula_global_epsg4326.tif windows:  60%|6| 1281/2124 [01:07<00:40, 20.84i\u001b[A\n",
      "dataset_sula_global_epsg4326.tif windows:  60%|6| 1284/2124 [01:08<00:40, 20.77i\u001b[A\n",
      "dataset_sula_global_epsg4326.tif windows:  61%|6| 1287/2124 [01:08<00:42, 19.61i\u001b[A\n",
      "dataset_sula_global_epsg4326.tif windows:  61%|6| 1290/2124 [01:08<00:41, 19.92i\u001b[A\n",
      "dataset_sula_global_epsg4326.tif windows:  61%|6| 1293/2124 [01:08<00:40, 20.32i\u001b[A\n",
      "dataset_sula_global_epsg4326.tif windows:  61%|6| 1296/2124 [01:08<00:50, 16.48i\u001b[A\n",
      "dataset_sula_global_epsg4326.tif windows:  61%|6| 1299/2124 [01:08<00:46, 17.79i\u001b[A\n",
      "dataset_sula_global_epsg4326.tif windows:  61%|6| 1302/2124 [01:09<00:44, 18.57i\u001b[A\n",
      "dataset_sula_global_epsg4326.tif windows:  61%|6| 1305/2124 [01:09<00:43, 18.98i\u001b[A\n",
      "dataset_sula_global_epsg4326.tif windows:  62%|6| 1307/2124 [01:09<00:43, 18.64i\u001b[A\n",
      "dataset_sula_global_epsg4326.tif windows:  62%|6| 1310/2124 [01:09<00:42, 19.13i\u001b[A\n",
      "dataset_sula_global_epsg4326.tif windows:  62%|6| 1313/2124 [01:09<00:41, 19.62i\u001b[A\n",
      "dataset_sula_global_epsg4326.tif windows:  62%|6| 1316/2124 [01:09<00:40, 19.86i\u001b[A\n",
      "dataset_sula_global_epsg4326.tif windows:  62%|6| 1319/2124 [01:09<00:39, 20.15i\u001b[A\n",
      "dataset_sula_global_epsg4326.tif windows:  62%|6| 1322/2124 [01:10<00:40, 19.75i\u001b[A\n",
      "dataset_sula_global_epsg4326.tif windows:  62%|6| 1325/2124 [01:10<00:40, 19.82i\u001b[A\n",
      "dataset_sula_global_epsg4326.tif windows:  62%|6| 1327/2124 [01:10<00:40, 19.53i\u001b[A\n",
      "dataset_sula_global_epsg4326.tif windows:  63%|6| 1329/2124 [01:10<00:40, 19.43i\u001b[A\n",
      "dataset_sula_global_epsg4326.tif windows:  63%|6| 1331/2124 [01:10<00:52, 15.12i\u001b[A\n",
      "dataset_sula_global_epsg4326.tif windows:  63%|6| 1334/2124 [01:10<00:47, 16.57i\u001b[A\n",
      "dataset_sula_global_epsg4326.tif windows:  63%|6| 1337/2124 [01:10<00:43, 18.06i\u001b[A\n",
      "dataset_sula_global_epsg4326.tif windows:  63%|6| 1340/2124 [01:11<00:41, 19.06i\u001b[A\n",
      "dataset_sula_global_epsg4326.tif windows:  63%|6| 1343/2124 [01:11<00:40, 19.49i\u001b[A\n",
      "dataset_sula_global_epsg4326.tif windows:  63%|6| 1346/2124 [01:11<00:38, 20.20i\u001b[A\n",
      "dataset_sula_global_epsg4326.tif windows:  64%|6| 1349/2124 [01:11<00:38, 20.14i\u001b[A\n",
      "dataset_sula_global_epsg4326.tif windows:  64%|6| 1352/2124 [01:11<00:38, 19.81i\u001b[A\n",
      "dataset_sula_global_epsg4326.tif windows:  64%|6| 1355/2124 [01:11<00:38, 20.03i\u001b[A\n",
      "dataset_sula_global_epsg4326.tif windows:  64%|6| 1358/2124 [01:11<00:39, 19.16i\u001b[A\n",
      "dataset_sula_global_epsg4326.tif windows:  64%|6| 1361/2124 [01:12<00:39, 19.28i\u001b[A\n",
      "dataset_sula_global_epsg4326.tif windows:  64%|6| 1364/2124 [01:12<00:38, 19.73i\u001b[A\n",
      "dataset_sula_global_epsg4326.tif windows:  64%|6| 1366/2124 [01:12<00:51, 14.81i\u001b[A\n",
      "dataset_sula_global_epsg4326.tif windows:  64%|6| 1369/2124 [01:12<00:46, 16.29i\u001b[A\n",
      "dataset_sula_global_epsg4326.tif windows:  65%|6| 1372/2124 [01:12<00:42, 17.89i\u001b[A\n",
      "dataset_sula_global_epsg4326.tif windows:  65%|6| 1375/2124 [01:12<00:40, 18.59i\u001b[A\n",
      "dataset_sula_global_epsg4326.tif windows:  65%|6| 1378/2124 [01:13<00:39, 19.12i\u001b[A\n",
      "dataset_sula_global_epsg4326.tif windows:  65%|6| 1380/2124 [01:13<00:39, 18.91i\u001b[A\n",
      "dataset_sula_global_epsg4326.tif windows:  65%|6| 1383/2124 [01:13<00:37, 19.93i\u001b[A\n",
      "dataset_sula_global_epsg4326.tif windows:  65%|6| 1386/2124 [01:13<00:36, 20.36i\u001b[A\n",
      "dataset_sula_global_epsg4326.tif windows:  65%|6| 1389/2124 [01:13<00:35, 20.56i\u001b[A\n",
      "dataset_sula_global_epsg4326.tif windows:  66%|6| 1392/2124 [01:13<00:35, 20.91i\u001b[A\n",
      "dataset_sula_global_epsg4326.tif windows:  66%|6| 1395/2124 [01:13<00:34, 21.18i\u001b[A\n",
      "dataset_sula_global_epsg4326.tif windows:  66%|6| 1398/2124 [01:14<00:33, 21.61i\u001b[A\n",
      "dataset_sula_global_epsg4326.tif windows:  66%|6| 1401/2124 [01:14<00:45, 16.00i\u001b[A\n",
      "dataset_sula_global_epsg4326.tif windows:  66%|6| 1403/2124 [01:14<00:43, 16.65i\u001b[A\n",
      "dataset_sula_global_epsg4326.tif windows:  66%|6| 1406/2124 [01:14<00:40, 17.58i\u001b[A\n",
      "dataset_sula_global_epsg4326.tif windows:  66%|6| 1409/2124 [01:14<00:38, 18.55i\u001b[A\n",
      "dataset_sula_global_epsg4326.tif windows:  66%|6| 1412/2124 [01:14<00:36, 19.27i\u001b[A\n",
      "dataset_sula_global_epsg4326.tif windows:  67%|6| 1415/2124 [01:14<00:35, 19.93i\u001b[A\n",
      "dataset_sula_global_epsg4326.tif windows:  67%|6| 1418/2124 [01:15<00:34, 20.34i\u001b[A\n",
      "dataset_sula_global_epsg4326.tif windows:  67%|6| 1421/2124 [01:15<00:35, 19.82i\u001b[A\n",
      "dataset_sula_global_epsg4326.tif windows:  67%|6| 1424/2124 [01:15<00:35, 19.89i\u001b[A\n",
      "dataset_sula_global_epsg4326.tif windows:  67%|6| 1427/2124 [01:15<00:33, 20.72i\u001b[A\n",
      "dataset_sula_global_epsg4326.tif windows:  67%|6| 1430/2124 [01:15<00:33, 21.02i\u001b[A\n",
      "dataset_sula_global_epsg4326.tif windows:  67%|6| 1433/2124 [01:15<00:32, 21.03i\u001b[A\n",
      "dataset_sula_global_epsg4326.tif windows:  68%|6| 1436/2124 [01:16<00:39, 17.22i\u001b[A\n",
      "dataset_sula_global_epsg4326.tif windows:  68%|6| 1439/2124 [01:16<00:38, 17.87i\u001b[A\n",
      "dataset_sula_global_epsg4326.tif windows:  68%|6| 1441/2124 [01:16<00:38, 17.94i\u001b[A\n",
      "dataset_sula_global_epsg4326.tif windows:  68%|6| 1444/2124 [01:16<00:36, 18.87i\u001b[A\n",
      "dataset_sula_global_epsg4326.tif windows:  68%|6| 1447/2124 [01:16<00:34, 19.46i\u001b[A\n",
      "dataset_sula_global_epsg4326.tif windows:  68%|6| 1449/2124 [01:16<00:35, 19.16i\u001b[A\n",
      "dataset_sula_global_epsg4326.tif windows:  68%|6| 1452/2124 [01:16<00:33, 19.78i\u001b[A\n",
      "dataset_sula_global_epsg4326.tif windows:  69%|6| 1455/2124 [01:17<00:32, 20.51i\u001b[A\n",
      "dataset_sula_global_epsg4326.tif windows:  69%|6| 1458/2124 [01:17<00:32, 20.60i\u001b[A\n",
      "dataset_sula_global_epsg4326.tif windows:  69%|6| 1461/2124 [01:17<00:32, 20.24i\u001b[A\n",
      "dataset_sula_global_epsg4326.tif windows:  69%|6| 1464/2124 [01:17<00:32, 20.43i\u001b[A\n",
      "dataset_sula_global_epsg4326.tif windows:  69%|6| 1467/2124 [01:17<00:32, 20.07i\u001b[A\n",
      "dataset_sula_global_epsg4326.tif windows:  69%|6| 1470/2124 [01:17<00:33, 19.69i\u001b[A\n",
      "dataset_sula_global_epsg4326.tif windows:  69%|6| 1472/2124 [01:18<00:44, 14.70i\u001b[A\n",
      "dataset_sula_global_epsg4326.tif windows:  69%|6| 1475/2124 [01:18<00:39, 16.30i\u001b[A\n",
      "dataset_sula_global_epsg4326.tif windows:  70%|6| 1477/2124 [01:18<00:38, 17.00i\u001b[A\n",
      "dataset_sula_global_epsg4326.tif windows:  70%|6| 1480/2124 [01:18<00:35, 17.93i\u001b[A\n",
      "dataset_sula_global_epsg4326.tif windows:  70%|6| 1483/2124 [01:18<00:34, 18.67i\u001b[A\n",
      "dataset_sula_global_epsg4326.tif windows:  70%|6| 1486/2124 [01:18<00:32, 19.61i\u001b[A\n",
      "dataset_sula_global_epsg4326.tif windows:  70%|7| 1489/2124 [01:18<00:32, 19.52i\u001b[A\n",
      "dataset_sula_global_epsg4326.tif windows:  70%|7| 1492/2124 [01:19<00:31, 20.07i\u001b[A\n",
      "dataset_sula_global_epsg4326.tif windows:  70%|7| 1495/2124 [01:19<00:30, 20.35i\u001b[A\n",
      "dataset_sula_global_epsg4326.tif windows:  71%|7| 1498/2124 [01:19<00:30, 20.22i\u001b[A\n",
      "dataset_sula_global_epsg4326.tif windows:  71%|7| 1501/2124 [01:19<00:31, 20.09i\u001b[A\n",
      "dataset_sula_global_epsg4326.tif windows:  71%|7| 1504/2124 [01:19<00:31, 19.71i\u001b[A\n",
      "dataset_sula_global_epsg4326.tif windows:  71%|7| 1506/2124 [01:19<00:39, 15.57i\u001b[A\n",
      "dataset_sula_global_epsg4326.tif windows:  71%|7| 1509/2124 [01:19<00:36, 16.99i\u001b[A\n",
      "dataset_sula_global_epsg4326.tif windows:  71%|7| 1511/2124 [01:20<00:35, 17.38i\u001b[A\n",
      "dataset_sula_global_epsg4326.tif windows:  71%|7| 1513/2124 [01:20<00:34, 17.91i\u001b[A\n",
      "dataset_sula_global_epsg4326.tif windows:  71%|7| 1515/2124 [01:20<00:33, 18.39i\u001b[A\n",
      "dataset_sula_global_epsg4326.tif windows:  71%|7| 1518/2124 [01:20<00:31, 18.96i\u001b[A\n",
      "dataset_sula_global_epsg4326.tif windows:  72%|7| 1521/2124 [01:20<00:31, 19.39i\u001b[A\n",
      "dataset_sula_global_epsg4326.tif windows:  72%|7| 1524/2124 [01:20<00:30, 19.94i\u001b[A\n",
      "dataset_sula_global_epsg4326.tif windows:  72%|7| 1527/2124 [01:20<00:30, 19.61i\u001b[A\n",
      "dataset_sula_global_epsg4326.tif windows:  72%|7| 1530/2124 [01:21<00:29, 19.89i\u001b[A\n",
      "dataset_sula_global_epsg4326.tif windows:  72%|7| 1532/2124 [01:21<00:31, 19.04i\u001b[A\n",
      "dataset_sula_global_epsg4326.tif windows:  72%|7| 1534/2124 [01:21<00:31, 18.82i\u001b[A\n",
      "dataset_sula_global_epsg4326.tif windows:  72%|7| 1536/2124 [01:21<00:31, 18.90i\u001b[A\n",
      "dataset_sula_global_epsg4326.tif windows:  72%|7| 1538/2124 [01:21<00:30, 18.97i\u001b[A\n",
      "dataset_sula_global_epsg4326.tif windows:  73%|7| 1541/2124 [01:21<00:39, 14.68i\u001b[A\n",
      "dataset_sula_global_epsg4326.tif windows:  73%|7| 1543/2124 [01:21<00:37, 15.60i\u001b[A\n",
      "dataset_sula_global_epsg4326.tif windows:  73%|7| 1545/2124 [01:21<00:34, 16.56i\u001b[A\n",
      "dataset_sula_global_epsg4326.tif windows:  73%|7| 1547/2124 [01:22<00:33, 17.27i\u001b[A\n",
      "dataset_sula_global_epsg4326.tif windows:  73%|7| 1549/2124 [01:22<00:32, 17.55i\u001b[A\n",
      "dataset_sula_global_epsg4326.tif windows:  73%|7| 1552/2124 [01:22<00:31, 18.19i\u001b[A\n",
      "dataset_sula_global_epsg4326.tif windows:  73%|7| 1554/2124 [01:22<00:31, 18.29i\u001b[A\n",
      "dataset_sula_global_epsg4326.tif windows:  73%|7| 1556/2124 [01:22<00:30, 18.56i\u001b[A\n",
      "dataset_sula_global_epsg4326.tif windows:  73%|7| 1558/2124 [01:22<00:31, 18.19i\u001b[A\n",
      "dataset_sula_global_epsg4326.tif windows:  73%|7| 1560/2124 [01:22<00:31, 18.13i\u001b[A\n",
      "dataset_sula_global_epsg4326.tif windows:  74%|7| 1562/2124 [01:22<00:30, 18.45i\u001b[A\n",
      "dataset_sula_global_epsg4326.tif windows:  74%|7| 1564/2124 [01:22<00:29, 18.87i\u001b[A\n",
      "dataset_sula_global_epsg4326.tif windows:  74%|7| 1566/2124 [01:23<00:29, 18.96i\u001b[A\n",
      "dataset_sula_global_epsg4326.tif windows:  74%|7| 1568/2124 [01:23<00:29, 18.72i\u001b[A\n",
      "dataset_sula_global_epsg4326.tif windows:  74%|7| 1570/2124 [01:23<00:29, 18.98i\u001b[A\n",
      "dataset_sula_global_epsg4326.tif windows:  74%|7| 1572/2124 [01:23<00:28, 19.13i\u001b[A\n",
      "dataset_sula_global_epsg4326.tif windows:  74%|7| 1574/2124 [01:23<00:29, 18.75i\u001b[A\n",
      "dataset_sula_global_epsg4326.tif windows:  74%|7| 1576/2124 [01:23<00:37, 14.60i\u001b[A\n",
      "dataset_sula_global_epsg4326.tif windows:  74%|7| 1579/2124 [01:23<00:33, 16.25i\u001b[A\n",
      "dataset_sula_global_epsg4326.tif windows:  74%|7| 1581/2124 [01:23<00:33, 16.28i\u001b[A\n",
      "dataset_sula_global_epsg4326.tif windows:  75%|7| 1583/2124 [01:24<00:32, 16.87i\u001b[A\n",
      "dataset_sula_global_epsg4326.tif windows:  75%|7| 1586/2124 [01:24<00:29, 17.99i\u001b[A\n",
      "dataset_sula_global_epsg4326.tif windows:  75%|7| 1589/2124 [01:24<00:28, 18.46i\u001b[A\n",
      "dataset_sula_global_epsg4326.tif windows:  75%|7| 1591/2124 [01:24<00:29, 17.79i\u001b[A\n",
      "dataset_sula_global_epsg4326.tif windows:  75%|7| 1593/2124 [01:24<00:29, 18.26i\u001b[A\n",
      "dataset_sula_global_epsg4326.tif windows:  75%|7| 1596/2124 [01:24<00:27, 19.05i\u001b[A\n",
      "dataset_sula_global_epsg4326.tif windows:  75%|7| 1599/2124 [01:24<00:26, 19.66i\u001b[A\n",
      "dataset_sula_global_epsg4326.tif windows:  75%|7| 1602/2124 [01:25<00:26, 20.01i\u001b[A\n",
      "dataset_sula_global_epsg4326.tif windows:  76%|7| 1604/2124 [01:25<00:26, 19.95i\u001b[A\n",
      "dataset_sula_global_epsg4326.tif windows:  76%|7| 1607/2124 [01:25<00:25, 20.04i\u001b[A\n",
      "dataset_sula_global_epsg4326.tif windows:  76%|7| 1610/2124 [01:25<00:25, 20.07i\u001b[A\n",
      "dataset_sula_global_epsg4326.tif windows:  76%|7| 1613/2124 [01:25<00:33, 15.25i\u001b[A\n",
      "dataset_sula_global_epsg4326.tif windows:  76%|7| 1615/2124 [01:25<00:31, 16.12i\u001b[A\n",
      "dataset_sula_global_epsg4326.tif windows:  76%|7| 1618/2124 [01:26<00:29, 17.42i\u001b[A\n",
      "dataset_sula_global_epsg4326.tif windows:  76%|7| 1620/2124 [01:26<00:28, 17.92i\u001b[A\n",
      "dataset_sula_global_epsg4326.tif windows:  76%|7| 1622/2124 [01:26<00:27, 18.31i\u001b[A\n",
      "dataset_sula_global_epsg4326.tif windows:  77%|7| 1625/2124 [01:26<00:27, 18.28i\u001b[A\n",
      "dataset_sula_global_epsg4326.tif windows:  77%|7| 1627/2124 [01:26<00:27, 18.36i\u001b[A\n",
      "dataset_sula_global_epsg4326.tif windows:  77%|7| 1629/2124 [01:26<00:27, 18.07i\u001b[A\n",
      "dataset_sula_global_epsg4326.tif windows:  77%|7| 1632/2124 [01:26<00:26, 18.91i\u001b[A\n",
      "dataset_sula_global_epsg4326.tif windows:  77%|7| 1635/2124 [01:26<00:24, 19.63i\u001b[A\n",
      "dataset_sula_global_epsg4326.tif windows:  77%|7| 1638/2124 [01:27<00:23, 20.37i\u001b[A\n",
      "dataset_sula_global_epsg4326.tif windows:  77%|7| 1641/2124 [01:27<00:23, 20.62i\u001b[A\n",
      "dataset_sula_global_epsg4326.tif windows:  77%|7| 1644/2124 [01:27<00:23, 20.81i\u001b[A\n",
      "dataset_sula_global_epsg4326.tif windows:  78%|7| 1647/2124 [01:27<00:27, 17.06i\u001b[A\n",
      "dataset_sula_global_epsg4326.tif windows:  78%|7| 1650/2124 [01:27<00:26, 18.05i\u001b[A\n",
      "dataset_sula_global_epsg4326.tif windows:  78%|7| 1653/2124 [01:27<00:25, 18.75i\u001b[A\n",
      "dataset_sula_global_epsg4326.tif windows:  78%|7| 1656/2124 [01:27<00:24, 19.41i\u001b[A\n",
      "dataset_sula_global_epsg4326.tif windows:  78%|7| 1658/2124 [01:28<00:23, 19.44i\u001b[A\n",
      "dataset_sula_global_epsg4326.tif windows:  78%|7| 1660/2124 [01:28<00:23, 19.44i\u001b[A\n",
      "dataset_sula_global_epsg4326.tif windows:  78%|7| 1663/2124 [01:28<00:23, 19.88i\u001b[A\n",
      "dataset_sula_global_epsg4326.tif windows:  78%|7| 1666/2124 [01:28<00:23, 19.47i\u001b[A\n",
      "dataset_sula_global_epsg4326.tif windows:  79%|7| 1668/2124 [01:28<00:23, 19.44i\u001b[A\n",
      "dataset_sula_global_epsg4326.tif windows:  79%|7| 1670/2124 [01:28<00:23, 19.36i\u001b[A\n",
      "dataset_sula_global_epsg4326.tif windows:  79%|7| 1672/2124 [01:28<00:23, 19.48i\u001b[A\n",
      "dataset_sula_global_epsg4326.tif windows:  79%|7| 1674/2124 [01:28<00:23, 19.31i\u001b[A\n",
      "dataset_sula_global_epsg4326.tif windows:  79%|7| 1676/2124 [01:29<00:23, 19.26i\u001b[A\n",
      "dataset_sula_global_epsg4326.tif windows:  79%|7| 1679/2124 [01:29<00:22, 19.59i\u001b[A\n",
      "dataset_sula_global_epsg4326.tif windows:  79%|7| 1681/2124 [01:29<00:29, 14.99i\u001b[A\n",
      "dataset_sula_global_epsg4326.tif windows:  79%|7| 1683/2124 [01:29<00:28, 15.48i\u001b[A\n",
      "dataset_sula_global_epsg4326.tif windows:  79%|7| 1685/2124 [01:29<00:26, 16.37i\u001b[A\n",
      "dataset_sula_global_epsg4326.tif windows:  79%|7| 1688/2124 [01:29<00:24, 17.75i\u001b[A\n",
      "dataset_sula_global_epsg4326.tif windows:  80%|7| 1690/2124 [01:29<00:24, 17.63i\u001b[A\n",
      "dataset_sula_global_epsg4326.tif windows:  80%|7| 1692/2124 [01:29<00:24, 17.73i\u001b[A\n",
      "dataset_sula_global_epsg4326.tif windows:  80%|7| 1694/2124 [01:30<00:24, 17.77i\u001b[A\n",
      "dataset_sula_global_epsg4326.tif windows:  80%|7| 1696/2124 [01:30<00:23, 18.28i\u001b[A\n",
      "dataset_sula_global_epsg4326.tif windows:  80%|7| 1698/2124 [01:30<00:23, 18.30i\u001b[A\n",
      "dataset_sula_global_epsg4326.tif windows:  80%|8| 1700/2124 [01:30<00:23, 18.37i\u001b[A\n",
      "dataset_sula_global_epsg4326.tif windows:  80%|8| 1702/2124 [01:30<00:22, 18.67i\u001b[A\n",
      "dataset_sula_global_epsg4326.tif windows:  80%|8| 1705/2124 [01:30<00:21, 19.22i\u001b[A\n",
      "dataset_sula_global_epsg4326.tif windows:  80%|8| 1707/2124 [01:30<00:21, 19.26i\u001b[A\n",
      "dataset_sula_global_epsg4326.tif windows:  81%|8| 1710/2124 [01:30<00:21, 19.14i\u001b[A\n",
      "dataset_sula_global_epsg4326.tif windows:  81%|8| 1712/2124 [01:31<00:21, 19.20i\u001b[A\n",
      "dataset_sula_global_epsg4326.tif windows:  81%|8| 1715/2124 [01:31<00:20, 19.72i\u001b[A\n",
      "dataset_sula_global_epsg4326.tif windows:  81%|8| 1717/2124 [01:31<00:28, 14.47i\u001b[A\n",
      "dataset_sula_global_epsg4326.tif windows:  81%|8| 1719/2124 [01:31<00:26, 15.54i\u001b[A\n",
      "dataset_sula_global_epsg4326.tif windows:  81%|8| 1721/2124 [01:31<00:25, 16.01i\u001b[A\n",
      "dataset_sula_global_epsg4326.tif windows:  81%|8| 1724/2124 [01:31<00:22, 17.40i\u001b[A\n",
      "dataset_sula_global_epsg4326.tif windows:  81%|8| 1726/2124 [01:31<00:22, 17.91i\u001b[A\n",
      "dataset_sula_global_epsg4326.tif windows:  81%|8| 1729/2124 [01:32<00:20, 18.93i\u001b[A\n",
      "dataset_sula_global_epsg4326.tif windows:  81%|8| 1731/2124 [01:32<00:20, 18.87i\u001b[A\n",
      "dataset_sula_global_epsg4326.tif windows:  82%|8| 1733/2124 [01:32<00:20, 18.96i\u001b[A\n",
      "dataset_sula_global_epsg4326.tif windows:  82%|8| 1736/2124 [01:32<00:20, 19.37i\u001b[A\n",
      "dataset_sula_global_epsg4326.tif windows:  82%|8| 1738/2124 [01:32<00:20, 19.25i\u001b[A\n",
      "dataset_sula_global_epsg4326.tif windows:  82%|8| 1741/2124 [01:32<00:19, 19.62i\u001b[A\n",
      "dataset_sula_global_epsg4326.tif windows:  82%|8| 1744/2124 [01:32<00:19, 19.78i\u001b[A\n",
      "dataset_sula_global_epsg4326.tif windows:  82%|8| 1747/2124 [01:32<00:18, 20.49i\u001b[A\n",
      "dataset_sula_global_epsg4326.tif windows:  82%|8| 1750/2124 [01:33<00:18, 20.70i\u001b[A\n",
      "dataset_sula_global_epsg4326.tif windows:  83%|8| 1753/2124 [01:33<00:23, 16.10i\u001b[A\n",
      "dataset_sula_global_epsg4326.tif windows:  83%|8| 1756/2124 [01:33<00:22, 16.69i\u001b[A\n",
      "dataset_sula_global_epsg4326.tif windows:  83%|8| 1758/2124 [01:33<00:21, 17.22i\u001b[A\n",
      "dataset_sula_global_epsg4326.tif windows:  83%|8| 1760/2124 [01:33<00:20, 17.59i\u001b[A\n",
      "dataset_sula_global_epsg4326.tif windows:  83%|8| 1763/2124 [01:33<00:19, 18.58i\u001b[A\n",
      "dataset_sula_global_epsg4326.tif windows:  83%|8| 1765/2124 [01:33<00:19, 18.85i\u001b[A\n",
      "dataset_sula_global_epsg4326.tif windows:  83%|8| 1768/2124 [01:34<00:18, 19.09i\u001b[A\n",
      "dataset_sula_global_epsg4326.tif windows:  83%|8| 1770/2124 [01:34<00:18, 19.08i\u001b[A\n",
      "dataset_sula_global_epsg4326.tif windows:  83%|8| 1772/2124 [01:34<00:18, 19.13i\u001b[A\n",
      "dataset_sula_global_epsg4326.tif windows:  84%|8| 1774/2124 [01:34<00:18, 19.29i\u001b[A\n",
      "dataset_sula_global_epsg4326.tif windows:  84%|8| 1776/2124 [01:34<00:18, 19.25i\u001b[A\n",
      "dataset_sula_global_epsg4326.tif windows:  84%|8| 1778/2124 [01:34<00:18, 18.77i\u001b[A\n",
      "dataset_sula_global_epsg4326.tif windows:  84%|8| 1780/2124 [01:34<00:18, 18.51i\u001b[A\n",
      "dataset_sula_global_epsg4326.tif windows:  84%|8| 1782/2124 [01:34<00:18, 18.83i\u001b[A\n",
      "dataset_sula_global_epsg4326.tif windows:  84%|8| 1784/2124 [01:34<00:17, 19.11i\u001b[A\n",
      "dataset_sula_global_epsg4326.tif windows:  84%|8| 1786/2124 [01:35<00:22, 15.23i\u001b[A\n",
      "dataset_sula_global_epsg4326.tif windows:  84%|8| 1788/2124 [01:35<00:20, 16.09i\u001b[A\n",
      "dataset_sula_global_epsg4326.tif windows:  84%|8| 1790/2124 [01:35<00:19, 16.92i\u001b[A\n",
      "dataset_sula_global_epsg4326.tif windows:  84%|8| 1792/2124 [01:35<00:19, 17.18i\u001b[A\n",
      "dataset_sula_global_epsg4326.tif windows:  84%|8| 1794/2124 [01:35<00:19, 16.73i\u001b[A\n",
      "dataset_sula_global_epsg4326.tif windows:  85%|8| 1796/2124 [01:35<00:19, 16.99i\u001b[A\n",
      "dataset_sula_global_epsg4326.tif windows:  85%|8| 1799/2124 [01:35<00:18, 18.03i\u001b[A\n",
      "dataset_sula_global_epsg4326.tif windows:  85%|8| 1802/2124 [01:36<00:17, 18.88i\u001b[A\n",
      "dataset_sula_global_epsg4326.tif windows:  85%|8| 1804/2124 [01:36<00:16, 18.86i\u001b[A\n",
      "dataset_sula_global_epsg4326.tif windows:  85%|8| 1807/2124 [01:36<00:16, 19.35i\u001b[A\n",
      "dataset_sula_global_epsg4326.tif windows:  85%|8| 1810/2124 [01:36<00:15, 19.81i\u001b[A\n",
      "dataset_sula_global_epsg4326.tif windows:  85%|8| 1813/2124 [01:36<00:15, 20.32i\u001b[A\n",
      "dataset_sula_global_epsg4326.tif windows:  85%|8| 1816/2124 [01:36<00:14, 20.60i\u001b[A\n",
      "dataset_sula_global_epsg4326.tif windows:  86%|8| 1819/2124 [01:36<00:14, 20.66i\u001b[A\n",
      "dataset_sula_global_epsg4326.tif windows:  86%|8| 1822/2124 [01:37<00:19, 15.77i\u001b[A\n",
      "dataset_sula_global_epsg4326.tif windows:  86%|8| 1824/2124 [01:37<00:18, 15.99i\u001b[A\n",
      "dataset_sula_global_epsg4326.tif windows:  86%|8| 1826/2124 [01:37<00:18, 16.52i\u001b[A\n",
      "dataset_sula_global_epsg4326.tif windows:  86%|8| 1828/2124 [01:37<00:17, 17.14i\u001b[A\n",
      "dataset_sula_global_epsg4326.tif windows:  86%|8| 1830/2124 [01:37<00:16, 17.69i\u001b[A\n",
      "dataset_sula_global_epsg4326.tif windows:  86%|8| 1832/2124 [01:37<00:16, 18.19i\u001b[A\n",
      "dataset_sula_global_epsg4326.tif windows:  86%|8| 1835/2124 [01:37<00:15, 18.49i\u001b[A\n",
      "dataset_sula_global_epsg4326.tif windows:  86%|8| 1837/2124 [01:37<00:15, 18.79i\u001b[A\n",
      "dataset_sula_global_epsg4326.tif windows:  87%|8| 1840/2124 [01:38<00:14, 19.24i\u001b[A\n",
      "dataset_sula_global_epsg4326.tif windows:  87%|8| 1843/2124 [01:38<00:14, 19.75i\u001b[A\n",
      "dataset_sula_global_epsg4326.tif windows:  87%|8| 1845/2124 [01:38<00:14, 19.75i\u001b[A\n",
      "dataset_sula_global_epsg4326.tif windows:  87%|8| 1848/2124 [01:38<00:13, 20.01i\u001b[A\n",
      "dataset_sula_global_epsg4326.tif windows:  87%|8| 1851/2124 [01:38<00:13, 20.21i\u001b[A\n",
      "dataset_sula_global_epsg4326.tif windows:  87%|8| 1854/2124 [01:38<00:13, 20.12i\u001b[A\n",
      "dataset_sula_global_epsg4326.tif windows:  87%|8| 1857/2124 [01:39<00:16, 16.62i\u001b[A\n",
      "dataset_sula_global_epsg4326.tif windows:  88%|8| 1860/2124 [01:39<00:14, 17.82i\u001b[A\n",
      "dataset_sula_global_epsg4326.tif windows:  88%|8| 1862/2124 [01:39<00:14, 18.20i\u001b[A\n",
      "dataset_sula_global_epsg4326.tif windows:  88%|8| 1865/2124 [01:39<00:13, 18.79i\u001b[A\n",
      "dataset_sula_global_epsg4326.tif windows:  88%|8| 1868/2124 [01:39<00:13, 19.64i\u001b[A\n",
      "dataset_sula_global_epsg4326.tif windows:  88%|8| 1871/2124 [01:39<00:12, 19.82i\u001b[A\n",
      "dataset_sula_global_epsg4326.tif windows:  88%|8| 1874/2124 [01:39<00:12, 20.07i\u001b[A\n",
      "dataset_sula_global_epsg4326.tif windows:  88%|8| 1877/2124 [01:39<00:12, 20.28i\u001b[A\n",
      "dataset_sula_global_epsg4326.tif windows:  89%|8| 1880/2124 [01:40<00:11, 20.45i\u001b[A\n",
      "dataset_sula_global_epsg4326.tif windows:  89%|8| 1883/2124 [01:40<00:11, 20.59i\u001b[A\n",
      "dataset_sula_global_epsg4326.tif windows:  89%|8| 1886/2124 [01:40<00:11, 20.64i\u001b[A\n",
      "dataset_sula_global_epsg4326.tif windows:  89%|8| 1889/2124 [01:40<00:11, 20.86i\u001b[A\n",
      "dataset_sula_global_epsg4326.tif windows:  89%|8| 1892/2124 [01:40<00:14, 15.85i\u001b[A\n",
      "dataset_sula_global_epsg4326.tif windows:  89%|8| 1894/2124 [01:40<00:13, 16.59i\u001b[A\n",
      "dataset_sula_global_epsg4326.tif windows:  89%|8| 1896/2124 [01:41<00:13, 17.21i\u001b[A\n",
      "dataset_sula_global_epsg4326.tif windows:  89%|8| 1898/2124 [01:41<00:12, 17.62i\u001b[A\n",
      "dataset_sula_global_epsg4326.tif windows:  89%|8| 1900/2124 [01:41<00:12, 18.08i\u001b[A\n",
      "dataset_sula_global_epsg4326.tif windows:  90%|8| 1902/2124 [01:41<00:12, 18.29i\u001b[A\n",
      "dataset_sula_global_epsg4326.tif windows:  90%|8| 1905/2124 [01:41<00:11, 19.37i\u001b[A\n",
      "dataset_sula_global_epsg4326.tif windows:  90%|8| 1908/2124 [01:41<00:10, 19.72i\u001b[A\n",
      "dataset_sula_global_epsg4326.tif windows:  90%|8| 1911/2124 [01:41<00:10, 20.14i\u001b[A\n",
      "dataset_sula_global_epsg4326.tif windows:  90%|9| 1914/2124 [01:41<00:10, 20.67i\u001b[A\n",
      "dataset_sula_global_epsg4326.tif windows:  90%|9| 1917/2124 [01:42<00:09, 20.94i\u001b[A\n",
      "dataset_sula_global_epsg4326.tif windows:  90%|9| 1920/2124 [01:42<00:09, 20.90i\u001b[A\n",
      "dataset_sula_global_epsg4326.tif windows:  91%|9| 1923/2124 [01:42<00:09, 21.07i\u001b[A\n",
      "dataset_sula_global_epsg4326.tif windows:  91%|9| 1926/2124 [01:42<00:12, 15.58i\u001b[A\n",
      "dataset_sula_global_epsg4326.tif windows:  91%|9| 1928/2124 [01:42<00:11, 16.34i\u001b[A\n",
      "dataset_sula_global_epsg4326.tif windows:  91%|9| 1930/2124 [01:42<00:11, 17.06i\u001b[A\n",
      "dataset_sula_global_epsg4326.tif windows:  91%|9| 1933/2124 [01:43<00:10, 18.22i\u001b[A\n",
      "dataset_sula_global_epsg4326.tif windows:  91%|9| 1936/2124 [01:43<00:09, 19.18i\u001b[A\n",
      "dataset_sula_global_epsg4326.tif windows:  91%|9| 1939/2124 [01:43<00:09, 19.91i\u001b[A\n",
      "dataset_sula_global_epsg4326.tif windows:  91%|9| 1942/2124 [01:43<00:08, 20.68i\u001b[A\n",
      "dataset_sula_global_epsg4326.tif windows:  92%|9| 1945/2124 [01:43<00:08, 20.88i\u001b[A\n",
      "dataset_sula_global_epsg4326.tif windows:  92%|9| 1948/2124 [01:43<00:08, 20.93i\u001b[A\n",
      "dataset_sula_global_epsg4326.tif windows:  92%|9| 1951/2124 [01:43<00:08, 20.94i\u001b[A\n",
      "dataset_sula_global_epsg4326.tif windows:  92%|9| 1954/2124 [01:43<00:07, 21.32i\u001b[A\n",
      "dataset_sula_global_epsg4326.tif windows:  92%|9| 1957/2124 [01:44<00:08, 20.70i\u001b[A\n",
      "dataset_sula_global_epsg4326.tif windows:  92%|9| 1960/2124 [01:44<00:07, 21.00i\u001b[A\n",
      "dataset_sula_global_epsg4326.tif windows:  92%|9| 1963/2124 [01:44<00:09, 17.05i\u001b[A\n",
      "dataset_sula_global_epsg4326.tif windows:  93%|9| 1966/2124 [01:44<00:08, 17.85i\u001b[A\n",
      "dataset_sula_global_epsg4326.tif windows:  93%|9| 1969/2124 [01:44<00:08, 18.67i\u001b[A\n",
      "dataset_sula_global_epsg4326.tif windows:  93%|9| 1971/2124 [01:44<00:08, 18.56i\u001b[A\n",
      "dataset_sula_global_epsg4326.tif windows:  93%|9| 1973/2124 [01:45<00:08, 18.86i\u001b[A\n",
      "dataset_sula_global_epsg4326.tif windows:  93%|9| 1976/2124 [01:45<00:07, 19.79i\u001b[A\n",
      "dataset_sula_global_epsg4326.tif windows:  93%|9| 1979/2124 [01:45<00:07, 20.29i\u001b[A\n",
      "dataset_sula_global_epsg4326.tif windows:  93%|9| 1982/2124 [01:45<00:06, 20.51i\u001b[A\n",
      "dataset_sula_global_epsg4326.tif windows:  93%|9| 1985/2124 [01:45<00:06, 20.77i\u001b[A\n",
      "dataset_sula_global_epsg4326.tif windows:  94%|9| 1988/2124 [01:45<00:06, 21.20i\u001b[A\n",
      "dataset_sula_global_epsg4326.tif windows:  94%|9| 1991/2124 [01:45<00:06, 21.00i\u001b[A\n",
      "dataset_sula_global_epsg4326.tif windows:  94%|9| 1994/2124 [01:46<00:06, 21.05i\u001b[A\n",
      "dataset_sula_global_epsg4326.tif windows:  94%|9| 1997/2124 [01:46<00:07, 16.99i\u001b[A\n",
      "dataset_sula_global_epsg4326.tif windows:  94%|9| 1999/2124 [01:46<00:07, 17.36i\u001b[A\n",
      "dataset_sula_global_epsg4326.tif windows:  94%|9| 2001/2124 [01:46<00:06, 17.80i\u001b[A\n",
      "dataset_sula_global_epsg4326.tif windows:  94%|9| 2003/2124 [01:46<00:06, 18.29i\u001b[A\n",
      "dataset_sula_global_epsg4326.tif windows:  94%|9| 2005/2124 [01:46<00:06, 18.49i\u001b[A\n",
      "dataset_sula_global_epsg4326.tif windows:  94%|9| 2007/2124 [01:46<00:06, 18.74i\u001b[A\n",
      "dataset_sula_global_epsg4326.tif windows:  95%|9| 2009/2124 [01:46<00:06, 18.72i\u001b[A\n",
      "dataset_sula_global_epsg4326.tif windows:  95%|9| 2012/2124 [01:47<00:05, 19.40i\u001b[A\n",
      "dataset_sula_global_epsg4326.tif windows:  95%|9| 2015/2124 [01:47<00:05, 19.87i\u001b[A\n",
      "dataset_sula_global_epsg4326.tif windows:  95%|9| 2018/2124 [01:47<00:05, 19.36i\u001b[A\n",
      "dataset_sula_global_epsg4326.tif windows:  95%|9| 2021/2124 [01:47<00:05, 19.65i\u001b[A\n",
      "dataset_sula_global_epsg4326.tif windows:  95%|9| 2023/2124 [01:47<00:05, 19.40i\u001b[A\n",
      "dataset_sula_global_epsg4326.tif windows:  95%|9| 2025/2124 [01:47<00:05, 18.77i\u001b[A\n",
      "dataset_sula_global_epsg4326.tif windows:  95%|9| 2027/2124 [01:47<00:05, 18.18i\u001b[A\n",
      "dataset_sula_global_epsg4326.tif windows:  96%|9| 2030/2124 [01:47<00:04, 19.18i\u001b[A\n",
      "dataset_sula_global_epsg4326.tif windows:  96%|9| 2032/2124 [01:48<00:05, 16.95i\u001b[A\n",
      "dataset_sula_global_epsg4326.tif windows:  96%|9| 2034/2124 [01:48<00:05, 15.35i\u001b[A\n",
      "dataset_sula_global_epsg4326.tif windows:  96%|9| 2036/2124 [01:48<00:06, 14.56i\u001b[A\n",
      "dataset_sula_global_epsg4326.tif windows:  96%|9| 2038/2124 [01:48<00:06, 14.13i\u001b[A\n",
      "dataset_sula_global_epsg4326.tif windows:  96%|9| 2040/2124 [01:48<00:06, 13.84i\u001b[A\n",
      "dataset_sula_global_epsg4326.tif windows:  96%|9| 2042/2124 [01:48<00:06, 13.58i\u001b[A\n",
      "dataset_sula_global_epsg4326.tif windows:  96%|9| 2044/2124 [01:49<00:06, 13.17i\u001b[A\n",
      "dataset_sula_global_epsg4326.tif windows:  96%|9| 2046/2124 [01:49<00:05, 13.10i\u001b[A\n",
      "dataset_sula_global_epsg4326.tif windows:  96%|9| 2048/2124 [01:49<00:05, 12.74i\u001b[A\n",
      "dataset_sula_global_epsg4326.tif windows:  97%|9| 2050/2124 [01:49<00:05, 12.83i\u001b[A\n",
      "dataset_sula_global_epsg4326.tif windows:  97%|9| 2052/2124 [01:49<00:05, 12.83i\u001b[A\n",
      "dataset_sula_global_epsg4326.tif windows:  97%|9| 2054/2124 [01:49<00:05, 12.76i\u001b[A\n",
      "dataset_sula_global_epsg4326.tif windows:  97%|9| 2056/2124 [01:50<00:05, 12.81i\u001b[A\n",
      "dataset_sula_global_epsg4326.tif windows:  97%|9| 2058/2124 [01:50<00:05, 12.70i\u001b[A\n",
      "dataset_sula_global_epsg4326.tif windows:  97%|9| 2060/2124 [01:50<00:05, 12.80i\u001b[A\n",
      "dataset_sula_global_epsg4326.tif windows:  97%|9| 2062/2124 [01:50<00:04, 12.59i\u001b[A\n",
      "dataset_sula_global_epsg4326.tif windows:  97%|9| 2064/2124 [01:50<00:04, 12.77i\u001b[A\n",
      "dataset_sula_global_epsg4326.tif windows:  97%|9| 2066/2124 [01:50<00:04, 12.93i\u001b[A\n",
      "dataset_sula_global_epsg4326.tif windows:  97%|9| 2068/2124 [01:50<00:04, 12.59i\u001b[A\n",
      "dataset_sula_global_epsg4326.tif windows:  97%|9| 2070/2124 [01:51<00:04, 12.67i\u001b[A\n",
      "dataset_sula_global_epsg4326.tif windows:  98%|9| 2072/2124 [01:51<00:04, 12.81i\u001b[A\n",
      "dataset_sula_global_epsg4326.tif windows:  98%|9| 2074/2124 [01:51<00:03, 12.94i\u001b[A\n",
      "dataset_sula_global_epsg4326.tif windows:  98%|9| 2076/2124 [01:51<00:03, 13.01i\u001b[A\n",
      "dataset_sula_global_epsg4326.tif windows:  98%|9| 2078/2124 [01:51<00:03, 12.92i\u001b[A\n",
      "dataset_sula_global_epsg4326.tif windows:  98%|9| 2080/2124 [01:51<00:03, 12.90i\u001b[A\n",
      "dataset_sula_global_epsg4326.tif windows:  98%|9| 2082/2124 [01:52<00:03, 12.89i\u001b[A\n",
      "dataset_sula_global_epsg4326.tif windows:  98%|9| 2084/2124 [01:52<00:03, 12.86i\u001b[A\n",
      "dataset_sula_global_epsg4326.tif windows:  98%|9| 2086/2124 [01:52<00:02, 12.91i\u001b[A\n",
      "dataset_sula_global_epsg4326.tif windows:  98%|9| 2088/2124 [01:52<00:02, 12.71i\u001b[A\n",
      "dataset_sula_global_epsg4326.tif windows:  98%|9| 2090/2124 [01:52<00:02, 12.11i\u001b[A\n",
      "dataset_sula_global_epsg4326.tif windows:  98%|9| 2092/2124 [01:52<00:02, 13.62i\u001b[A\n",
      "dataset_sula_global_epsg4326.tif windows:  99%|9| 2095/2124 [01:52<00:01, 15.79i\u001b[A\n",
      "dataset_sula_global_epsg4326.tif windows:  99%|9| 2098/2124 [01:53<00:01, 17.13i\u001b[A\n",
      "dataset_sula_global_epsg4326.tif windows:  99%|9| 2100/2124 [01:53<00:01, 17.47i\u001b[A\n",
      "dataset_sula_global_epsg4326.tif windows:  99%|9| 2103/2124 [01:53<00:01, 18.56i\u001b[A\n",
      "dataset_sula_global_epsg4326.tif windows:  99%|9| 2105/2124 [01:53<00:01, 18.88i\u001b[A\n",
      "dataset_sula_global_epsg4326.tif windows:  99%|9| 2107/2124 [01:53<00:00, 19.11i\u001b[A\n",
      "dataset_sula_global_epsg4326.tif windows:  99%|9| 2110/2124 [01:53<00:00, 19.74i\u001b[A\n",
      "dataset_sula_global_epsg4326.tif windows:  99%|9| 2112/2124 [01:53<00:00, 19.76i\u001b[A\n",
      "dataset_sula_global_epsg4326.tif windows: 100%|9| 2114/2124 [01:53<00:00, 19.76i\u001b[A\n",
      "dataset_sula_global_epsg4326.tif windows: 100%|9| 2117/2124 [01:54<00:00, 20.09i\u001b[A\n",
      "dataset_sula_global_epsg4326.tif windows: 100%|9| 2120/2124 [01:54<00:00, 20.06i\u001b[A\n",
      "dataset_sula_global_epsg4326.tif windows: 100%|#| 2124/2124 [01:54<00:00, 18.57i\u001b[A\n",
      "Rasters: 100%|###################################| 1/1 [01:54<00:00, 114.48s/it]\n"
     ]
    }
   ],
   "source": [
    "!satproc_extract_chips \\\n",
    "                $path_to_files \\\n",
    "                -o  $output_folder \\\n",
    "                --size $SIZE \\\n",
    "                --step-size $step_size \\\n",
    "                --rescale \\\n",
    "                --rescale-mode $RESCALE_MODE"
   ]
  },
  {
   "cell_type": "markdown",
   "metadata": {},
   "source": [
    "## Prediction"
   ]
  },
  {
   "cell_type": "markdown",
   "metadata": {},
   "source": [
    "The prediction configuration is defined. We have to pass the prediction dataset path and the model path."
   ]
  },
  {
   "cell_type": "code",
   "execution_count": 27,
   "metadata": {},
   "outputs": [],
   "source": [
    "predict_config = PredictConfig(\n",
    "                            images_path=output_folder, # ruta a las imagenes sobre las cuales queremos predecir\n",
    "                            results_path=os.path.join(BASE_PATH,'dataset/data_results',ZONE,RESO,VERSION_UNET,str(SIZE)+\"_\"+str(STEP_SIZE)), #'modelo_'+VERSION ruta de destino para nuestra predicción\n",
    "                            batch_size=16,\n",
    "                            model_path=os.path.join(BASE_PATH,'data/weights',model_name),  #  ruta al modelo (.h5)\n",
    "                            height=INPUT_SIZE,\n",
    "                            width=INPUT_SIZE,\n",
    "                            n_channels = N_CHANNELS,\n",
    "                            n_classes  = N_CLASSES,\n",
    "                            class_weights = CLASS_WEIGHT)\n"
   ]
  },
  {
   "cell_type": "markdown",
   "metadata": {},
   "source": [
    "Running the prediction process."
   ]
  },
  {
   "cell_type": "code",
   "execution_count": 28,
   "metadata": {
    "scrolled": true,
    "tags": []
   },
   "outputs": [
    {
     "name": "stdout",
     "output_type": "stream",
     "text": [
      "Total images to predict (./../dataset/data_predict/SULA/low/160_40/images/*.tif): 2124\n",
      "After skipping existing results: 2124\n"
     ]
    },
    {
     "name": "stderr",
     "output_type": "stream",
     "text": [
      "2022-08-24 13:11:37.098163: I tensorflow/stream_executor/cuda/cuda_gpu_executor.cc:975] successful NUMA node read from SysFS had negative value (-1), but there must be at least one NUMA node, so returning NUMA node zero\n",
      "2022-08-24 13:11:37.111256: I tensorflow/stream_executor/cuda/cuda_gpu_executor.cc:975] successful NUMA node read from SysFS had negative value (-1), but there must be at least one NUMA node, so returning NUMA node zero\n",
      "2022-08-24 13:11:37.112195: I tensorflow/stream_executor/cuda/cuda_gpu_executor.cc:975] successful NUMA node read from SysFS had negative value (-1), but there must be at least one NUMA node, so returning NUMA node zero\n",
      "2022-08-24 13:11:37.114694: I tensorflow/core/platform/cpu_feature_guard.cc:193] This TensorFlow binary is optimized with oneAPI Deep Neural Network Library (oneDNN) to use the following CPU instructions in performance-critical operations:  AVX2 FMA\n",
      "To enable them in other operations, rebuild TensorFlow with the appropriate compiler flags.\n",
      "2022-08-24 13:11:37.115234: I tensorflow/stream_executor/cuda/cuda_gpu_executor.cc:975] successful NUMA node read from SysFS had negative value (-1), but there must be at least one NUMA node, so returning NUMA node zero\n",
      "2022-08-24 13:11:37.116073: I tensorflow/stream_executor/cuda/cuda_gpu_executor.cc:975] successful NUMA node read from SysFS had negative value (-1), but there must be at least one NUMA node, so returning NUMA node zero\n",
      "2022-08-24 13:11:37.116879: I tensorflow/stream_executor/cuda/cuda_gpu_executor.cc:975] successful NUMA node read from SysFS had negative value (-1), but there must be at least one NUMA node, so returning NUMA node zero\n",
      "2022-08-24 13:11:37.861530: I tensorflow/stream_executor/cuda/cuda_gpu_executor.cc:975] successful NUMA node read from SysFS had negative value (-1), but there must be at least one NUMA node, so returning NUMA node zero\n",
      "2022-08-24 13:11:37.862434: I tensorflow/stream_executor/cuda/cuda_gpu_executor.cc:975] successful NUMA node read from SysFS had negative value (-1), but there must be at least one NUMA node, so returning NUMA node zero\n",
      "2022-08-24 13:11:37.863283: I tensorflow/stream_executor/cuda/cuda_gpu_executor.cc:975] successful NUMA node read from SysFS had negative value (-1), but there must be at least one NUMA node, so returning NUMA node zero\n",
      "2022-08-24 13:11:37.864032: I tensorflow/core/common_runtime/gpu/gpu_device.cc:1532] Created device /job:localhost/replica:0/task:0/device:GPU:0 with 10794 MB memory:  -> device: 0, name: Tesla K80, pci bus id: 0000:00:1e.0, compute capability: 3.7\n",
      "  0%|                                                   | 0/133 [00:00<?, ?it/s]2022-08-24 13:11:41.663729: I tensorflow/stream_executor/cuda/cuda_dnn.cc:384] Loaded cuDNN version 8202\n",
      "2022-08-24 13:11:42.089194: I tensorflow/core/platform/default/subprocess.cc:304] Start cannot spawn child process: No such file or directory\n",
      "2022-08-24 13:11:42.091446: I tensorflow/core/platform/default/subprocess.cc:304] Start cannot spawn child process: No such file or directory\n",
      "2022-08-24 13:11:42.091504: W tensorflow/stream_executor/gpu/asm_compiler.cc:80] Couldn't get ptxas version string: INTERNAL: Couldn't invoke ptxas --version\n",
      "2022-08-24 13:11:42.092126: I tensorflow/core/platform/default/subprocess.cc:304] Start cannot spawn child process: No such file or directory\n",
      "2022-08-24 13:11:42.092428: W tensorflow/stream_executor/gpu/redzone_allocator.cc:314] INTERNAL: Failed to launch ptxas\n",
      "Relying on driver to perform ptx compilation. \n",
      "Modify $PATH to customize ptxas location.\n",
      "This message will be only logged once.\n"
     ]
    },
    {
     "name": "stdout",
     "output_type": "stream",
     "text": [
      "1/1 [==============================] - 5s 5s/step\n"
     ]
    },
    {
     "name": "stderr",
     "output_type": "stream",
     "text": [
      "  1%|▎                                          | 1/133 [00:06<14:32,  6.61s/it]"
     ]
    },
    {
     "name": "stdout",
     "output_type": "stream",
     "text": [
      "1/1 [==============================] - 0s 48ms/step\n"
     ]
    },
    {
     "name": "stderr",
     "output_type": "stream",
     "text": [
      "  2%|▋                                          | 2/133 [00:07<07:42,  3.53s/it]"
     ]
    },
    {
     "name": "stdout",
     "output_type": "stream",
     "text": [
      "1/1 [==============================] - 0s 50ms/step\n"
     ]
    },
    {
     "name": "stderr",
     "output_type": "stream",
     "text": [
      "  2%|▉                                          | 3/133 [00:09<05:29,  2.53s/it]"
     ]
    },
    {
     "name": "stdout",
     "output_type": "stream",
     "text": [
      "1/1 [==============================] - 0s 48ms/step\n"
     ]
    },
    {
     "name": "stderr",
     "output_type": "stream",
     "text": [
      "  3%|█▎                                         | 4/133 [00:10<04:26,  2.06s/it]"
     ]
    },
    {
     "name": "stdout",
     "output_type": "stream",
     "text": [
      "1/1 [==============================] - 0s 46ms/step\n"
     ]
    },
    {
     "name": "stderr",
     "output_type": "stream",
     "text": [
      "  4%|█▌                                         | 5/133 [00:12<03:51,  1.81s/it]"
     ]
    },
    {
     "name": "stdout",
     "output_type": "stream",
     "text": [
      "1/1 [==============================] - 0s 42ms/step\n"
     ]
    },
    {
     "name": "stderr",
     "output_type": "stream",
     "text": [
      "  5%|█▉                                         | 6/133 [00:13<03:28,  1.64s/it]"
     ]
    },
    {
     "name": "stdout",
     "output_type": "stream",
     "text": [
      "1/1 [==============================] - 0s 37ms/step\n"
     ]
    },
    {
     "name": "stderr",
     "output_type": "stream",
     "text": [
      "  5%|██▎                                        | 7/133 [00:14<03:14,  1.54s/it]"
     ]
    },
    {
     "name": "stdout",
     "output_type": "stream",
     "text": [
      "1/1 [==============================] - 0s 37ms/step\n"
     ]
    },
    {
     "name": "stderr",
     "output_type": "stream",
     "text": [
      "  6%|██▌                                        | 8/133 [00:16<03:04,  1.47s/it]"
     ]
    },
    {
     "name": "stdout",
     "output_type": "stream",
     "text": [
      "1/1 [==============================] - 0s 43ms/step\n"
     ]
    },
    {
     "name": "stderr",
     "output_type": "stream",
     "text": [
      "  7%|██▉                                        | 9/133 [00:17<03:00,  1.46s/it]"
     ]
    },
    {
     "name": "stdout",
     "output_type": "stream",
     "text": [
      "1/1 [==============================] - 0s 46ms/step\n"
     ]
    },
    {
     "name": "stderr",
     "output_type": "stream",
     "text": [
      "  8%|███▏                                      | 10/133 [00:18<02:56,  1.44s/it]"
     ]
    },
    {
     "name": "stdout",
     "output_type": "stream",
     "text": [
      "1/1 [==============================] - 0s 37ms/step\n"
     ]
    },
    {
     "name": "stderr",
     "output_type": "stream",
     "text": [
      "  8%|███▍                                      | 11/133 [00:20<02:51,  1.41s/it]"
     ]
    },
    {
     "name": "stdout",
     "output_type": "stream",
     "text": [
      "1/1 [==============================] - 0s 42ms/step\n"
     ]
    },
    {
     "name": "stderr",
     "output_type": "stream",
     "text": [
      "  9%|███▊                                      | 12/133 [00:21<02:47,  1.39s/it]"
     ]
    },
    {
     "name": "stdout",
     "output_type": "stream",
     "text": [
      "1/1 [==============================] - 0s 39ms/step\n"
     ]
    },
    {
     "name": "stderr",
     "output_type": "stream",
     "text": [
      " 10%|████                                      | 13/133 [00:22<02:45,  1.38s/it]"
     ]
    },
    {
     "name": "stdout",
     "output_type": "stream",
     "text": [
      "1/1 [==============================] - 0s 39ms/step\n"
     ]
    },
    {
     "name": "stderr",
     "output_type": "stream",
     "text": [
      " 11%|████▍                                     | 14/133 [00:24<02:43,  1.37s/it]"
     ]
    },
    {
     "name": "stdout",
     "output_type": "stream",
     "text": [
      "1/1 [==============================] - 0s 38ms/step\n"
     ]
    },
    {
     "name": "stderr",
     "output_type": "stream",
     "text": [
      " 11%|████▋                                     | 15/133 [00:25<02:41,  1.37s/it]"
     ]
    },
    {
     "name": "stdout",
     "output_type": "stream",
     "text": [
      "1/1 [==============================] - 0s 37ms/step\n"
     ]
    },
    {
     "name": "stderr",
     "output_type": "stream",
     "text": [
      " 12%|█████                                     | 16/133 [00:26<02:40,  1.37s/it]"
     ]
    },
    {
     "name": "stdout",
     "output_type": "stream",
     "text": [
      "1/1 [==============================] - 0s 37ms/step\n"
     ]
    },
    {
     "name": "stderr",
     "output_type": "stream",
     "text": [
      " 13%|█████▎                                    | 17/133 [00:28<02:39,  1.37s/it]"
     ]
    },
    {
     "name": "stdout",
     "output_type": "stream",
     "text": [
      "1/1 [==============================] - 0s 38ms/step\n"
     ]
    },
    {
     "name": "stderr",
     "output_type": "stream",
     "text": [
      " 14%|█████▋                                    | 18/133 [00:29<02:37,  1.37s/it]"
     ]
    },
    {
     "name": "stdout",
     "output_type": "stream",
     "text": [
      "1/1 [==============================] - 0s 39ms/step\n"
     ]
    },
    {
     "name": "stderr",
     "output_type": "stream",
     "text": [
      " 14%|██████                                    | 19/133 [00:31<02:35,  1.37s/it]"
     ]
    },
    {
     "name": "stdout",
     "output_type": "stream",
     "text": [
      "1/1 [==============================] - 0s 37ms/step\n"
     ]
    },
    {
     "name": "stderr",
     "output_type": "stream",
     "text": [
      " 15%|██████▎                                   | 20/133 [00:32<02:33,  1.36s/it]"
     ]
    },
    {
     "name": "stdout",
     "output_type": "stream",
     "text": [
      "1/1 [==============================] - 0s 38ms/step\n"
     ]
    },
    {
     "name": "stderr",
     "output_type": "stream",
     "text": [
      " 16%|██████▋                                   | 21/133 [00:33<02:32,  1.36s/it]"
     ]
    },
    {
     "name": "stdout",
     "output_type": "stream",
     "text": [
      "1/1 [==============================] - 0s 41ms/step\n"
     ]
    },
    {
     "name": "stderr",
     "output_type": "stream",
     "text": [
      " 17%|██████▉                                   | 22/133 [00:35<02:31,  1.37s/it]"
     ]
    },
    {
     "name": "stdout",
     "output_type": "stream",
     "text": [
      "1/1 [==============================] - 0s 42ms/step\n"
     ]
    },
    {
     "name": "stderr",
     "output_type": "stream",
     "text": [
      " 17%|███████▎                                  | 23/133 [00:36<02:29,  1.36s/it]"
     ]
    },
    {
     "name": "stdout",
     "output_type": "stream",
     "text": [
      "1/1 [==============================] - 0s 39ms/step\n"
     ]
    },
    {
     "name": "stderr",
     "output_type": "stream",
     "text": [
      " 18%|███████▌                                  | 24/133 [00:37<02:28,  1.36s/it]"
     ]
    },
    {
     "name": "stdout",
     "output_type": "stream",
     "text": [
      "1/1 [==============================] - 0s 39ms/step\n"
     ]
    },
    {
     "name": "stderr",
     "output_type": "stream",
     "text": [
      " 19%|███████▉                                  | 25/133 [00:39<02:26,  1.35s/it]"
     ]
    },
    {
     "name": "stdout",
     "output_type": "stream",
     "text": [
      "1/1 [==============================] - 0s 44ms/step\n"
     ]
    },
    {
     "name": "stderr",
     "output_type": "stream",
     "text": [
      " 20%|████████▏                                 | 26/133 [00:40<02:24,  1.35s/it]"
     ]
    },
    {
     "name": "stdout",
     "output_type": "stream",
     "text": [
      "1/1 [==============================] - 0s 38ms/step\n"
     ]
    },
    {
     "name": "stderr",
     "output_type": "stream",
     "text": [
      " 20%|████████▌                                 | 27/133 [00:41<02:22,  1.35s/it]"
     ]
    },
    {
     "name": "stdout",
     "output_type": "stream",
     "text": [
      "1/1 [==============================] - 0s 46ms/step\n"
     ]
    },
    {
     "name": "stderr",
     "output_type": "stream",
     "text": [
      " 21%|████████▊                                 | 28/133 [00:43<02:20,  1.34s/it]"
     ]
    },
    {
     "name": "stdout",
     "output_type": "stream",
     "text": [
      "1/1 [==============================] - 0s 47ms/step\n"
     ]
    },
    {
     "name": "stderr",
     "output_type": "stream",
     "text": [
      " 22%|█████████▏                                | 29/133 [00:44<02:18,  1.33s/it]"
     ]
    },
    {
     "name": "stdout",
     "output_type": "stream",
     "text": [
      "1/1 [==============================] - 0s 39ms/step\n"
     ]
    },
    {
     "name": "stderr",
     "output_type": "stream",
     "text": [
      " 23%|█████████▍                                | 30/133 [00:45<02:17,  1.33s/it]"
     ]
    },
    {
     "name": "stdout",
     "output_type": "stream",
     "text": [
      "1/1 [==============================] - 0s 37ms/step\n"
     ]
    },
    {
     "name": "stderr",
     "output_type": "stream",
     "text": [
      " 23%|█████████▊                                | 31/133 [00:47<02:16,  1.34s/it]"
     ]
    },
    {
     "name": "stdout",
     "output_type": "stream",
     "text": [
      "1/1 [==============================] - 0s 40ms/step\n"
     ]
    },
    {
     "name": "stderr",
     "output_type": "stream",
     "text": [
      " 24%|██████████                                | 32/133 [00:48<02:16,  1.35s/it]"
     ]
    },
    {
     "name": "stdout",
     "output_type": "stream",
     "text": [
      "1/1 [==============================] - 0s 39ms/step\n"
     ]
    },
    {
     "name": "stderr",
     "output_type": "stream",
     "text": [
      " 25%|██████████▍                               | 33/133 [00:49<02:15,  1.36s/it]"
     ]
    },
    {
     "name": "stdout",
     "output_type": "stream",
     "text": [
      "1/1 [==============================] - 0s 43ms/step\n"
     ]
    },
    {
     "name": "stderr",
     "output_type": "stream",
     "text": [
      " 26%|██████████▋                               | 34/133 [00:51<02:13,  1.34s/it]"
     ]
    },
    {
     "name": "stdout",
     "output_type": "stream",
     "text": [
      "1/1 [==============================] - 0s 38ms/step\n"
     ]
    },
    {
     "name": "stderr",
     "output_type": "stream",
     "text": [
      " 26%|███████████                               | 35/133 [00:52<02:11,  1.34s/it]"
     ]
    },
    {
     "name": "stdout",
     "output_type": "stream",
     "text": [
      "1/1 [==============================] - 0s 37ms/step\n"
     ]
    },
    {
     "name": "stderr",
     "output_type": "stream",
     "text": [
      " 27%|███████████▎                              | 36/133 [00:53<02:09,  1.34s/it]"
     ]
    },
    {
     "name": "stdout",
     "output_type": "stream",
     "text": [
      "1/1 [==============================] - 0s 39ms/step\n"
     ]
    },
    {
     "name": "stderr",
     "output_type": "stream",
     "text": [
      " 28%|███████████▋                              | 37/133 [00:55<02:07,  1.33s/it]"
     ]
    },
    {
     "name": "stdout",
     "output_type": "stream",
     "text": [
      "1/1 [==============================] - 0s 39ms/step\n"
     ]
    },
    {
     "name": "stderr",
     "output_type": "stream",
     "text": [
      " 29%|████████████                              | 38/133 [00:56<02:06,  1.33s/it]"
     ]
    },
    {
     "name": "stdout",
     "output_type": "stream",
     "text": [
      "1/1 [==============================] - 0s 38ms/step\n"
     ]
    },
    {
     "name": "stderr",
     "output_type": "stream",
     "text": [
      " 29%|████████████▎                             | 39/133 [00:57<02:05,  1.34s/it]"
     ]
    },
    {
     "name": "stdout",
     "output_type": "stream",
     "text": [
      "1/1 [==============================] - 0s 38ms/step\n"
     ]
    },
    {
     "name": "stderr",
     "output_type": "stream",
     "text": [
      " 30%|████████████▋                             | 40/133 [00:59<02:04,  1.34s/it]"
     ]
    },
    {
     "name": "stdout",
     "output_type": "stream",
     "text": [
      "1/1 [==============================] - 0s 39ms/step\n"
     ]
    },
    {
     "name": "stderr",
     "output_type": "stream",
     "text": [
      " 31%|████████████▉                             | 41/133 [01:00<02:02,  1.34s/it]"
     ]
    },
    {
     "name": "stdout",
     "output_type": "stream",
     "text": [
      "1/1 [==============================] - 0s 38ms/step\n"
     ]
    },
    {
     "name": "stderr",
     "output_type": "stream",
     "text": [
      " 32%|█████████████▎                            | 42/133 [01:01<02:01,  1.34s/it]"
     ]
    },
    {
     "name": "stdout",
     "output_type": "stream",
     "text": [
      "1/1 [==============================] - 0s 41ms/step\n"
     ]
    },
    {
     "name": "stderr",
     "output_type": "stream",
     "text": [
      " 32%|█████████████▌                            | 43/133 [01:03<02:00,  1.34s/it]"
     ]
    },
    {
     "name": "stdout",
     "output_type": "stream",
     "text": [
      "1/1 [==============================] - 0s 39ms/step\n"
     ]
    },
    {
     "name": "stderr",
     "output_type": "stream",
     "text": [
      " 33%|█████████████▉                            | 44/133 [01:04<01:59,  1.34s/it]"
     ]
    },
    {
     "name": "stdout",
     "output_type": "stream",
     "text": [
      "1/1 [==============================] - 0s 39ms/step\n"
     ]
    },
    {
     "name": "stderr",
     "output_type": "stream",
     "text": [
      " 34%|██████████████▏                           | 45/133 [01:05<01:58,  1.35s/it]"
     ]
    },
    {
     "name": "stdout",
     "output_type": "stream",
     "text": [
      "1/1 [==============================] - 0s 38ms/step\n"
     ]
    },
    {
     "name": "stderr",
     "output_type": "stream",
     "text": [
      " 35%|██████████████▌                           | 46/133 [01:07<01:58,  1.36s/it]"
     ]
    },
    {
     "name": "stdout",
     "output_type": "stream",
     "text": [
      "1/1 [==============================] - 0s 40ms/step\n"
     ]
    },
    {
     "name": "stderr",
     "output_type": "stream",
     "text": [
      " 35%|██████████████▊                           | 47/133 [01:08<01:56,  1.35s/it]"
     ]
    },
    {
     "name": "stdout",
     "output_type": "stream",
     "text": [
      "1/1 [==============================] - 0s 38ms/step\n"
     ]
    },
    {
     "name": "stderr",
     "output_type": "stream",
     "text": [
      " 36%|███████████████▏                          | 48/133 [01:10<01:54,  1.34s/it]"
     ]
    },
    {
     "name": "stdout",
     "output_type": "stream",
     "text": [
      "1/1 [==============================] - 0s 38ms/step\n"
     ]
    },
    {
     "name": "stderr",
     "output_type": "stream",
     "text": [
      " 37%|███████████████▍                          | 49/133 [01:11<01:52,  1.33s/it]"
     ]
    },
    {
     "name": "stdout",
     "output_type": "stream",
     "text": [
      "1/1 [==============================] - 0s 39ms/step\n"
     ]
    },
    {
     "name": "stderr",
     "output_type": "stream",
     "text": [
      " 38%|███████████████▊                          | 50/133 [01:12<01:50,  1.33s/it]"
     ]
    },
    {
     "name": "stdout",
     "output_type": "stream",
     "text": [
      "1/1 [==============================] - 0s 43ms/step\n"
     ]
    },
    {
     "name": "stderr",
     "output_type": "stream",
     "text": [
      " 38%|████████████████                          | 51/133 [01:13<01:48,  1.32s/it]"
     ]
    },
    {
     "name": "stdout",
     "output_type": "stream",
     "text": [
      "1/1 [==============================] - 0s 37ms/step\n"
     ]
    },
    {
     "name": "stderr",
     "output_type": "stream",
     "text": [
      " 39%|████████████████▍                         | 52/133 [01:15<01:47,  1.33s/it]"
     ]
    },
    {
     "name": "stdout",
     "output_type": "stream",
     "text": [
      "1/1 [==============================] - 0s 45ms/step\n"
     ]
    },
    {
     "name": "stderr",
     "output_type": "stream",
     "text": [
      " 40%|████████████████▋                         | 53/133 [01:16<01:46,  1.34s/it]"
     ]
    },
    {
     "name": "stdout",
     "output_type": "stream",
     "text": [
      "1/1 [==============================] - 0s 45ms/step\n"
     ]
    },
    {
     "name": "stderr",
     "output_type": "stream",
     "text": [
      " 41%|█████████████████                         | 54/133 [01:18<01:46,  1.35s/it]"
     ]
    },
    {
     "name": "stdout",
     "output_type": "stream",
     "text": [
      "1/1 [==============================] - 0s 37ms/step\n"
     ]
    },
    {
     "name": "stderr",
     "output_type": "stream",
     "text": [
      " 41%|█████████████████▎                        | 55/133 [01:19<01:44,  1.34s/it]"
     ]
    },
    {
     "name": "stdout",
     "output_type": "stream",
     "text": [
      "1/1 [==============================] - 0s 39ms/step\n"
     ]
    },
    {
     "name": "stderr",
     "output_type": "stream",
     "text": [
      " 42%|█████████████████▋                        | 56/133 [01:20<01:43,  1.35s/it]"
     ]
    },
    {
     "name": "stdout",
     "output_type": "stream",
     "text": [
      "1/1 [==============================] - 0s 40ms/step\n"
     ]
    },
    {
     "name": "stderr",
     "output_type": "stream",
     "text": [
      " 43%|██████████████████                        | 57/133 [01:22<01:43,  1.36s/it]"
     ]
    },
    {
     "name": "stdout",
     "output_type": "stream",
     "text": [
      "1/1 [==============================] - 0s 40ms/step\n"
     ]
    },
    {
     "name": "stderr",
     "output_type": "stream",
     "text": [
      " 44%|██████████████████▎                       | 58/133 [01:23<01:41,  1.35s/it]"
     ]
    },
    {
     "name": "stdout",
     "output_type": "stream",
     "text": [
      "1/1 [==============================] - 0s 38ms/step\n"
     ]
    },
    {
     "name": "stderr",
     "output_type": "stream",
     "text": [
      " 44%|██████████████████▋                       | 59/133 [01:24<01:40,  1.35s/it]"
     ]
    },
    {
     "name": "stdout",
     "output_type": "stream",
     "text": [
      "1/1 [==============================] - 0s 45ms/step\n"
     ]
    },
    {
     "name": "stderr",
     "output_type": "stream",
     "text": [
      " 45%|██████████████████▉                       | 60/133 [01:26<01:38,  1.34s/it]"
     ]
    },
    {
     "name": "stdout",
     "output_type": "stream",
     "text": [
      "1/1 [==============================] - 0s 38ms/step\n"
     ]
    },
    {
     "name": "stderr",
     "output_type": "stream",
     "text": [
      " 46%|███████████████████▎                      | 61/133 [01:27<01:36,  1.35s/it]"
     ]
    },
    {
     "name": "stdout",
     "output_type": "stream",
     "text": [
      "1/1 [==============================] - 0s 39ms/step\n"
     ]
    },
    {
     "name": "stderr",
     "output_type": "stream",
     "text": [
      " 47%|███████████████████▌                      | 62/133 [01:28<01:35,  1.35s/it]"
     ]
    },
    {
     "name": "stdout",
     "output_type": "stream",
     "text": [
      "1/1 [==============================] - 0s 38ms/step\n"
     ]
    },
    {
     "name": "stderr",
     "output_type": "stream",
     "text": [
      " 47%|███████████████████▉                      | 63/133 [01:30<01:34,  1.34s/it]"
     ]
    },
    {
     "name": "stdout",
     "output_type": "stream",
     "text": [
      "1/1 [==============================] - 0s 41ms/step\n"
     ]
    },
    {
     "name": "stderr",
     "output_type": "stream",
     "text": [
      " 48%|████████████████████▏                     | 64/133 [01:31<01:32,  1.34s/it]"
     ]
    },
    {
     "name": "stdout",
     "output_type": "stream",
     "text": [
      "1/1 [==============================] - 0s 44ms/step\n"
     ]
    },
    {
     "name": "stderr",
     "output_type": "stream",
     "text": [
      " 49%|████████████████████▌                     | 65/133 [01:32<01:31,  1.35s/it]"
     ]
    },
    {
     "name": "stdout",
     "output_type": "stream",
     "text": [
      "1/1 [==============================] - 0s 38ms/step\n"
     ]
    },
    {
     "name": "stderr",
     "output_type": "stream",
     "text": [
      " 50%|████████████████████▊                     | 66/133 [01:34<01:30,  1.35s/it]"
     ]
    },
    {
     "name": "stdout",
     "output_type": "stream",
     "text": [
      "1/1 [==============================] - 0s 38ms/step\n"
     ]
    },
    {
     "name": "stderr",
     "output_type": "stream",
     "text": [
      " 50%|█████████████████████▏                    | 67/133 [01:35<01:29,  1.35s/it]"
     ]
    },
    {
     "name": "stdout",
     "output_type": "stream",
     "text": [
      "1/1 [==============================] - 0s 38ms/step\n"
     ]
    },
    {
     "name": "stderr",
     "output_type": "stream",
     "text": [
      " 51%|█████████████████████▍                    | 68/133 [01:36<01:28,  1.36s/it]"
     ]
    },
    {
     "name": "stdout",
     "output_type": "stream",
     "text": [
      "1/1 [==============================] - 0s 43ms/step\n"
     ]
    },
    {
     "name": "stderr",
     "output_type": "stream",
     "text": [
      " 52%|█████████████████████▊                    | 69/133 [01:38<01:27,  1.37s/it]"
     ]
    },
    {
     "name": "stdout",
     "output_type": "stream",
     "text": [
      "1/1 [==============================] - 0s 38ms/step\n"
     ]
    },
    {
     "name": "stderr",
     "output_type": "stream",
     "text": [
      " 53%|██████████████████████                    | 70/133 [01:39<01:25,  1.36s/it]"
     ]
    },
    {
     "name": "stdout",
     "output_type": "stream",
     "text": [
      "1/1 [==============================] - 0s 38ms/step\n"
     ]
    },
    {
     "name": "stderr",
     "output_type": "stream",
     "text": [
      " 53%|██████████████████████▍                   | 71/133 [01:41<01:24,  1.36s/it]"
     ]
    },
    {
     "name": "stdout",
     "output_type": "stream",
     "text": [
      "1/1 [==============================] - 0s 39ms/step\n"
     ]
    },
    {
     "name": "stderr",
     "output_type": "stream",
     "text": [
      " 54%|██████████████████████▋                   | 72/133 [01:42<01:23,  1.37s/it]"
     ]
    },
    {
     "name": "stdout",
     "output_type": "stream",
     "text": [
      "1/1 [==============================] - 0s 37ms/step\n"
     ]
    },
    {
     "name": "stderr",
     "output_type": "stream",
     "text": [
      " 55%|███████████████████████                   | 73/133 [01:43<01:21,  1.36s/it]"
     ]
    },
    {
     "name": "stdout",
     "output_type": "stream",
     "text": [
      "1/1 [==============================] - 0s 38ms/step\n"
     ]
    },
    {
     "name": "stderr",
     "output_type": "stream",
     "text": [
      " 56%|███████████████████████▎                  | 74/133 [01:45<01:19,  1.35s/it]"
     ]
    },
    {
     "name": "stdout",
     "output_type": "stream",
     "text": [
      "1/1 [==============================] - 0s 38ms/step\n"
     ]
    },
    {
     "name": "stderr",
     "output_type": "stream",
     "text": [
      " 56%|███████████████████████▋                  | 75/133 [01:46<01:18,  1.35s/it]"
     ]
    },
    {
     "name": "stdout",
     "output_type": "stream",
     "text": [
      "1/1 [==============================] - 0s 37ms/step\n"
     ]
    },
    {
     "name": "stderr",
     "output_type": "stream",
     "text": [
      " 57%|████████████████████████                  | 76/133 [01:47<01:16,  1.35s/it]"
     ]
    },
    {
     "name": "stdout",
     "output_type": "stream",
     "text": [
      "1/1 [==============================] - 0s 40ms/step\n"
     ]
    },
    {
     "name": "stderr",
     "output_type": "stream",
     "text": [
      " 58%|████████████████████████▎                 | 77/133 [01:49<01:15,  1.35s/it]"
     ]
    },
    {
     "name": "stdout",
     "output_type": "stream",
     "text": [
      "1/1 [==============================] - 0s 40ms/step\n"
     ]
    },
    {
     "name": "stderr",
     "output_type": "stream",
     "text": [
      " 59%|████████████████████████▋                 | 78/133 [01:50<01:14,  1.36s/it]"
     ]
    },
    {
     "name": "stdout",
     "output_type": "stream",
     "text": [
      "1/1 [==============================] - 0s 37ms/step\n"
     ]
    },
    {
     "name": "stderr",
     "output_type": "stream",
     "text": [
      " 59%|████████████████████████▉                 | 79/133 [01:51<01:13,  1.37s/it]"
     ]
    },
    {
     "name": "stdout",
     "output_type": "stream",
     "text": [
      "1/1 [==============================] - 0s 36ms/step\n"
     ]
    },
    {
     "name": "stderr",
     "output_type": "stream",
     "text": [
      " 60%|█████████████████████████▎                | 80/133 [01:53<01:11,  1.36s/it]"
     ]
    },
    {
     "name": "stdout",
     "output_type": "stream",
     "text": [
      "1/1 [==============================] - 0s 43ms/step\n"
     ]
    },
    {
     "name": "stderr",
     "output_type": "stream",
     "text": [
      " 61%|█████████████████████████▌                | 81/133 [01:54<01:10,  1.36s/it]"
     ]
    },
    {
     "name": "stdout",
     "output_type": "stream",
     "text": [
      "1/1 [==============================] - 0s 40ms/step\n"
     ]
    },
    {
     "name": "stderr",
     "output_type": "stream",
     "text": [
      " 62%|█████████████████████████▉                | 82/133 [01:55<01:09,  1.36s/it]"
     ]
    },
    {
     "name": "stdout",
     "output_type": "stream",
     "text": [
      "1/1 [==============================] - 0s 39ms/step\n"
     ]
    },
    {
     "name": "stderr",
     "output_type": "stream",
     "text": [
      " 62%|██████████████████████████▏               | 83/133 [01:57<01:08,  1.37s/it]"
     ]
    },
    {
     "name": "stdout",
     "output_type": "stream",
     "text": [
      "1/1 [==============================] - 0s 39ms/step\n"
     ]
    },
    {
     "name": "stderr",
     "output_type": "stream",
     "text": [
      " 63%|██████████████████████████▌               | 84/133 [01:58<01:07,  1.37s/it]"
     ]
    },
    {
     "name": "stdout",
     "output_type": "stream",
     "text": [
      "1/1 [==============================] - 0s 37ms/step\n"
     ]
    },
    {
     "name": "stderr",
     "output_type": "stream",
     "text": [
      " 64%|██████████████████████████▊               | 85/133 [02:00<01:05,  1.37s/it]"
     ]
    },
    {
     "name": "stdout",
     "output_type": "stream",
     "text": [
      "1/1 [==============================] - 0s 39ms/step\n"
     ]
    },
    {
     "name": "stderr",
     "output_type": "stream",
     "text": [
      " 65%|███████████████████████████▏              | 86/133 [02:01<01:03,  1.35s/it]"
     ]
    },
    {
     "name": "stdout",
     "output_type": "stream",
     "text": [
      "1/1 [==============================] - 0s 41ms/step\n"
     ]
    },
    {
     "name": "stderr",
     "output_type": "stream",
     "text": [
      " 65%|███████████████████████████▍              | 87/133 [02:02<01:02,  1.35s/it]"
     ]
    },
    {
     "name": "stdout",
     "output_type": "stream",
     "text": [
      "1/1 [==============================] - 0s 39ms/step\n"
     ]
    },
    {
     "name": "stderr",
     "output_type": "stream",
     "text": [
      " 66%|███████████████████████████▊              | 88/133 [02:04<01:00,  1.35s/it]"
     ]
    },
    {
     "name": "stdout",
     "output_type": "stream",
     "text": [
      "1/1 [==============================] - 0s 37ms/step\n"
     ]
    },
    {
     "name": "stderr",
     "output_type": "stream",
     "text": [
      " 67%|████████████████████████████              | 89/133 [02:05<00:58,  1.33s/it]"
     ]
    },
    {
     "name": "stdout",
     "output_type": "stream",
     "text": [
      "1/1 [==============================] - 0s 61ms/step\n"
     ]
    },
    {
     "name": "stderr",
     "output_type": "stream",
     "text": [
      " 68%|████████████████████████████▍             | 90/133 [02:06<00:57,  1.34s/it]"
     ]
    },
    {
     "name": "stdout",
     "output_type": "stream",
     "text": [
      "1/1 [==============================] - 0s 38ms/step\n"
     ]
    },
    {
     "name": "stderr",
     "output_type": "stream",
     "text": [
      " 68%|████████████████████████████▋             | 91/133 [02:08<00:56,  1.34s/it]"
     ]
    },
    {
     "name": "stdout",
     "output_type": "stream",
     "text": [
      "1/1 [==============================] - 0s 39ms/step\n"
     ]
    },
    {
     "name": "stderr",
     "output_type": "stream",
     "text": [
      " 69%|█████████████████████████████             | 92/133 [02:09<00:54,  1.34s/it]"
     ]
    },
    {
     "name": "stdout",
     "output_type": "stream",
     "text": [
      "1/1 [==============================] - 0s 38ms/step\n"
     ]
    },
    {
     "name": "stderr",
     "output_type": "stream",
     "text": [
      " 70%|█████████████████████████████▎            | 93/133 [02:10<00:53,  1.33s/it]"
     ]
    },
    {
     "name": "stdout",
     "output_type": "stream",
     "text": [
      "1/1 [==============================] - 0s 38ms/step\n"
     ]
    },
    {
     "name": "stderr",
     "output_type": "stream",
     "text": [
      " 71%|█████████████████████████████▋            | 94/133 [02:12<00:51,  1.33s/it]"
     ]
    },
    {
     "name": "stdout",
     "output_type": "stream",
     "text": [
      "1/1 [==============================] - 0s 39ms/step\n"
     ]
    },
    {
     "name": "stderr",
     "output_type": "stream",
     "text": [
      " 71%|██████████████████████████████            | 95/133 [02:13<00:50,  1.32s/it]"
     ]
    },
    {
     "name": "stdout",
     "output_type": "stream",
     "text": [
      "1/1 [==============================] - 0s 37ms/step\n"
     ]
    },
    {
     "name": "stderr",
     "output_type": "stream",
     "text": [
      " 72%|██████████████████████████████▎           | 96/133 [02:14<00:49,  1.33s/it]"
     ]
    },
    {
     "name": "stdout",
     "output_type": "stream",
     "text": [
      "1/1 [==============================] - 0s 37ms/step\n"
     ]
    },
    {
     "name": "stderr",
     "output_type": "stream",
     "text": [
      " 73%|██████████████████████████████▋           | 97/133 [02:16<00:47,  1.32s/it]"
     ]
    },
    {
     "name": "stdout",
     "output_type": "stream",
     "text": [
      "1/1 [==============================] - 0s 38ms/step\n"
     ]
    },
    {
     "name": "stderr",
     "output_type": "stream",
     "text": [
      " 74%|██████████████████████████████▉           | 98/133 [02:17<00:46,  1.34s/it]"
     ]
    },
    {
     "name": "stdout",
     "output_type": "stream",
     "text": [
      "1/1 [==============================] - 0s 39ms/step\n"
     ]
    },
    {
     "name": "stderr",
     "output_type": "stream",
     "text": [
      " 74%|███████████████████████████████▎          | 99/133 [02:18<00:46,  1.36s/it]"
     ]
    },
    {
     "name": "stdout",
     "output_type": "stream",
     "text": [
      "1/1 [==============================] - 0s 39ms/step\n"
     ]
    },
    {
     "name": "stderr",
     "output_type": "stream",
     "text": [
      " 75%|██████████████████████████████▊          | 100/133 [02:20<00:44,  1.35s/it]"
     ]
    },
    {
     "name": "stdout",
     "output_type": "stream",
     "text": [
      "1/1 [==============================] - 0s 38ms/step\n"
     ]
    },
    {
     "name": "stderr",
     "output_type": "stream",
     "text": [
      " 76%|███████████████████████████████▏         | 101/133 [02:21<00:42,  1.34s/it]"
     ]
    },
    {
     "name": "stdout",
     "output_type": "stream",
     "text": [
      "1/1 [==============================] - 0s 38ms/step\n"
     ]
    },
    {
     "name": "stderr",
     "output_type": "stream",
     "text": [
      " 77%|███████████████████████████████▍         | 102/133 [02:22<00:41,  1.34s/it]"
     ]
    },
    {
     "name": "stdout",
     "output_type": "stream",
     "text": [
      "1/1 [==============================] - 0s 37ms/step\n"
     ]
    },
    {
     "name": "stderr",
     "output_type": "stream",
     "text": [
      " 77%|███████████████████████████████▊         | 103/133 [02:24<00:40,  1.35s/it]"
     ]
    },
    {
     "name": "stdout",
     "output_type": "stream",
     "text": [
      "1/1 [==============================] - 0s 39ms/step\n"
     ]
    },
    {
     "name": "stderr",
     "output_type": "stream",
     "text": [
      " 78%|████████████████████████████████         | 104/133 [02:25<00:38,  1.34s/it]"
     ]
    },
    {
     "name": "stdout",
     "output_type": "stream",
     "text": [
      "1/1 [==============================] - 0s 39ms/step\n"
     ]
    },
    {
     "name": "stderr",
     "output_type": "stream",
     "text": [
      " 79%|████████████████████████████████▎        | 105/133 [02:26<00:37,  1.34s/it]"
     ]
    },
    {
     "name": "stdout",
     "output_type": "stream",
     "text": [
      "1/1 [==============================] - 0s 37ms/step\n"
     ]
    },
    {
     "name": "stderr",
     "output_type": "stream",
     "text": [
      " 80%|████████████████████████████████▋        | 106/133 [02:28<00:36,  1.35s/it]"
     ]
    },
    {
     "name": "stdout",
     "output_type": "stream",
     "text": [
      "1/1 [==============================] - 0s 38ms/step\n"
     ]
    },
    {
     "name": "stderr",
     "output_type": "stream",
     "text": [
      " 80%|████████████████████████████████▉        | 107/133 [02:29<00:35,  1.35s/it]"
     ]
    },
    {
     "name": "stdout",
     "output_type": "stream",
     "text": [
      "1/1 [==============================] - 0s 37ms/step\n"
     ]
    },
    {
     "name": "stderr",
     "output_type": "stream",
     "text": [
      " 81%|█████████████████████████████████▎       | 108/133 [02:30<00:33,  1.33s/it]"
     ]
    },
    {
     "name": "stdout",
     "output_type": "stream",
     "text": [
      "1/1 [==============================] - 0s 38ms/step\n"
     ]
    },
    {
     "name": "stderr",
     "output_type": "stream",
     "text": [
      " 82%|█████████████████████████████████▌       | 109/133 [02:32<00:32,  1.35s/it]"
     ]
    },
    {
     "name": "stdout",
     "output_type": "stream",
     "text": [
      "1/1 [==============================] - 0s 38ms/step\n"
     ]
    },
    {
     "name": "stderr",
     "output_type": "stream",
     "text": [
      " 83%|█████████████████████████████████▉       | 110/133 [02:33<00:31,  1.37s/it]"
     ]
    },
    {
     "name": "stdout",
     "output_type": "stream",
     "text": [
      "1/1 [==============================] - 0s 39ms/step\n"
     ]
    },
    {
     "name": "stderr",
     "output_type": "stream",
     "text": [
      " 83%|██████████████████████████████████▏      | 111/133 [02:34<00:29,  1.36s/it]"
     ]
    },
    {
     "name": "stdout",
     "output_type": "stream",
     "text": [
      "1/1 [==============================] - 0s 37ms/step\n"
     ]
    },
    {
     "name": "stderr",
     "output_type": "stream",
     "text": [
      " 84%|██████████████████████████████████▌      | 112/133 [02:36<00:28,  1.35s/it]"
     ]
    },
    {
     "name": "stdout",
     "output_type": "stream",
     "text": [
      "1/1 [==============================] - 0s 37ms/step\n"
     ]
    },
    {
     "name": "stderr",
     "output_type": "stream",
     "text": [
      " 85%|██████████████████████████████████▊      | 113/133 [02:37<00:26,  1.34s/it]"
     ]
    },
    {
     "name": "stdout",
     "output_type": "stream",
     "text": [
      "1/1 [==============================] - 0s 40ms/step\n"
     ]
    },
    {
     "name": "stderr",
     "output_type": "stream",
     "text": [
      " 86%|███████████████████████████████████▏     | 114/133 [02:38<00:25,  1.34s/it]"
     ]
    },
    {
     "name": "stdout",
     "output_type": "stream",
     "text": [
      "1/1 [==============================] - 0s 42ms/step\n"
     ]
    },
    {
     "name": "stderr",
     "output_type": "stream",
     "text": [
      " 86%|███████████████████████████████████▍     | 115/133 [02:40<00:24,  1.34s/it]"
     ]
    },
    {
     "name": "stdout",
     "output_type": "stream",
     "text": [
      "1/1 [==============================] - 0s 45ms/step\n"
     ]
    },
    {
     "name": "stderr",
     "output_type": "stream",
     "text": [
      " 87%|███████████████████████████████████▊     | 116/133 [02:41<00:22,  1.34s/it]"
     ]
    },
    {
     "name": "stdout",
     "output_type": "stream",
     "text": [
      "1/1 [==============================] - 0s 41ms/step\n"
     ]
    },
    {
     "name": "stderr",
     "output_type": "stream",
     "text": [
      " 88%|████████████████████████████████████     | 117/133 [02:42<00:21,  1.34s/it]"
     ]
    },
    {
     "name": "stdout",
     "output_type": "stream",
     "text": [
      "1/1 [==============================] - 0s 39ms/step\n"
     ]
    },
    {
     "name": "stderr",
     "output_type": "stream",
     "text": [
      " 89%|████████████████████████████████████▍    | 118/133 [02:44<00:20,  1.33s/it]"
     ]
    },
    {
     "name": "stdout",
     "output_type": "stream",
     "text": [
      "1/1 [==============================] - 0s 39ms/step\n"
     ]
    },
    {
     "name": "stderr",
     "output_type": "stream",
     "text": [
      " 89%|████████████████████████████████████▋    | 119/133 [02:45<00:18,  1.34s/it]"
     ]
    },
    {
     "name": "stdout",
     "output_type": "stream",
     "text": [
      "1/1 [==============================] - 0s 39ms/step\n"
     ]
    },
    {
     "name": "stderr",
     "output_type": "stream",
     "text": [
      " 90%|████████████████████████████████████▉    | 120/133 [02:47<00:17,  1.35s/it]"
     ]
    },
    {
     "name": "stdout",
     "output_type": "stream",
     "text": [
      "1/1 [==============================] - 0s 40ms/step\n"
     ]
    },
    {
     "name": "stderr",
     "output_type": "stream",
     "text": [
      " 91%|█████████████████████████████████████▎   | 121/133 [02:48<00:16,  1.35s/it]"
     ]
    },
    {
     "name": "stdout",
     "output_type": "stream",
     "text": [
      "1/1 [==============================] - 0s 36ms/step\n"
     ]
    },
    {
     "name": "stderr",
     "output_type": "stream",
     "text": [
      " 92%|█████████████████████████████████████▌   | 122/133 [02:49<00:14,  1.35s/it]"
     ]
    },
    {
     "name": "stdout",
     "output_type": "stream",
     "text": [
      "1/1 [==============================] - 0s 37ms/step\n"
     ]
    },
    {
     "name": "stderr",
     "output_type": "stream",
     "text": [
      " 92%|█████████████████████████████████████▉   | 123/133 [02:51<00:13,  1.35s/it]"
     ]
    },
    {
     "name": "stdout",
     "output_type": "stream",
     "text": [
      "1/1 [==============================] - 0s 39ms/step\n"
     ]
    },
    {
     "name": "stderr",
     "output_type": "stream",
     "text": [
      " 93%|██████████████████████████████████████▏  | 124/133 [02:52<00:12,  1.35s/it]"
     ]
    },
    {
     "name": "stdout",
     "output_type": "stream",
     "text": [
      "1/1 [==============================] - 0s 38ms/step\n"
     ]
    },
    {
     "name": "stderr",
     "output_type": "stream",
     "text": [
      " 94%|██████████████████████████████████████▌  | 125/133 [02:53<00:10,  1.35s/it]"
     ]
    },
    {
     "name": "stdout",
     "output_type": "stream",
     "text": [
      "1/1 [==============================] - 0s 37ms/step\n"
     ]
    },
    {
     "name": "stderr",
     "output_type": "stream",
     "text": [
      " 95%|██████████████████████████████████████▊  | 126/133 [02:55<00:09,  1.35s/it]"
     ]
    },
    {
     "name": "stdout",
     "output_type": "stream",
     "text": [
      "1/1 [==============================] - 0s 38ms/step\n"
     ]
    },
    {
     "name": "stderr",
     "output_type": "stream",
     "text": [
      " 95%|███████████████████████████████████████▏ | 127/133 [02:56<00:08,  1.34s/it]"
     ]
    },
    {
     "name": "stdout",
     "output_type": "stream",
     "text": [
      "1/1 [==============================] - 0s 43ms/step\n"
     ]
    },
    {
     "name": "stderr",
     "output_type": "stream",
     "text": [
      " 96%|███████████████████████████████████████▍ | 128/133 [02:57<00:06,  1.35s/it]"
     ]
    },
    {
     "name": "stdout",
     "output_type": "stream",
     "text": [
      "1/1 [==============================] - 0s 43ms/step\n"
     ]
    },
    {
     "name": "stderr",
     "output_type": "stream",
     "text": [
      " 97%|███████████████████████████████████████▊ | 129/133 [02:59<00:05,  1.35s/it]"
     ]
    },
    {
     "name": "stdout",
     "output_type": "stream",
     "text": [
      "1/1 [==============================] - 0s 49ms/step\n"
     ]
    },
    {
     "name": "stderr",
     "output_type": "stream",
     "text": [
      " 98%|████████████████████████████████████████ | 130/133 [03:00<00:04,  1.35s/it]"
     ]
    },
    {
     "name": "stdout",
     "output_type": "stream",
     "text": [
      "1/1 [==============================] - 0s 38ms/step\n"
     ]
    },
    {
     "name": "stderr",
     "output_type": "stream",
     "text": [
      " 98%|████████████████████████████████████████▍| 131/133 [03:01<00:02,  1.35s/it]"
     ]
    },
    {
     "name": "stdout",
     "output_type": "stream",
     "text": [
      "1/1 [==============================] - 0s 38ms/step\n"
     ]
    },
    {
     "name": "stderr",
     "output_type": "stream",
     "text": [
      " 99%|████████████████████████████████████████▋| 132/133 [03:03<00:01,  1.36s/it]"
     ]
    },
    {
     "name": "stdout",
     "output_type": "stream",
     "text": [
      "1/1 [==============================] - 3s 3s/step\n"
     ]
    },
    {
     "name": "stderr",
     "output_type": "stream",
     "text": [
      "100%|█████████████████████████████████████████| 133/133 [03:06<00:00,  1.41s/it]"
     ]
    },
    {
     "name": "stdout",
     "output_type": "stream",
     "text": [
      "Done!\n"
     ]
    },
    {
     "name": "stderr",
     "output_type": "stream",
     "text": [
      "\n"
     ]
    }
   ],
   "source": [
    "predict(predict_config)  # Ejecuta la predicción"
   ]
  },
  {
   "cell_type": "code",
   "execution_count": 27,
   "metadata": {},
   "outputs": [],
   "source": [
    "#!ls ../data/weights/"
   ]
  },
  {
   "cell_type": "markdown",
   "metadata": {},
   "source": [
    "The prediction results can be visualized. We see the image on the left side and the prediction result on the right side."
   ]
  },
  {
   "cell_type": "code",
   "execution_count": 29,
   "metadata": {
    "collapsed": true,
    "jupyter": {
     "outputs_hidden": true
    },
    "tags": []
   },
   "outputs": [
    {
     "data": {
      "image/png": "[encoded data removed]",
      "text/plain": [
       "<Figure size 1440x2880 with 2 Axes>"
      ]
     },
     "metadata": {
      "needs_background": "light"
     },
     "output_type": "display_data"
    },
    {
     "data": {
      "image/png": "[encoded data removed]",
      "text/plain": [
       "<Figure size 1440x2880 with 2 Axes>"
      ]
     },
     "metadata": {
      "needs_background": "light"
     },
     "output_type": "display_data"
    }
   ],
   "source": [
    "plot_data_results(num_samples=2, fig_size=(2, 2), predict_config=predict_config, img_ch =2, n_bands=3)"
   ]
  },
  {
   "cell_type": "markdown",
   "metadata": {},
   "source": [
    "## Post processing\n",
    "\n",
    "In this stage, we aplied the following post proccessing methods to the prediction results:\n",
    "\n",
    "* Tegucigalpa global model:\n",
    "    1. Threshold filtering: In this process we filter the results images by applying a threshold over the probabilities values, saving those which are higher than the threshold value.\n",
    "    2. Polygonized: the filtered results are converted to polygons into a vector file.\n",
    "    3. Minimum area: We select those polygons which area is bigger than the minimum.\n",
    "* Tegucigalpa local model & Sula Valley models:\n",
    "    1. Smoothing: To obtain a better visualization we use the satproc_smooth_stitch and satproc_spatial_filter tools. The first one merges and smooths overlaped chips generated by the prediction. The second, applies a circular kernel that reduces and filters the low probability values in the boundaries.\n"
   ]
  },
  {
   "cell_type": "markdown",
   "metadata": {},
   "source": [
    "### Threshold filtering"
   ]
  },
  {
   "cell_type": "code",
   "execution_count": 8,
   "metadata": {},
   "outputs": [],
   "source": [
    "thr=str(int(10*THR))\n",
    "filtered_folder=f'./../dataset/data_results/TEGUCIGALPA/low/v1/filtered_up/{str(SIZE)}_{str(STEP_SIZE)}_thr{thr}'\n",
    "filter_by_max_prob(input_dir  = f'./../dataset/data_results/{ZONE}/{RESO}/{VERSION_UNET}/{str(SIZE)}_{str(STEP_SIZE)}_3',#predict_config.results_path,\n",
    "                   output_dir = filtered_folder,\n",
    "                   threshold  = THR)"
   ]
  },
  {
   "cell_type": "markdown",
   "metadata": {},
   "source": [
    "### Polygonized"
   ]
  },
  {
   "cell_type": "code",
   "execution_count": null,
   "metadata": {
    "scrolled": true,
    "tags": []
   },
   "outputs": [],
   "source": [
    "thr=str(int(10*THR))\n",
    "output_path=f'./../dataset/data_results/TEGUCIGALPA/low/v1/poligonize/poligonize_{ZONE}_{RESO}_{PROYECT}_classD_thr{thr}_{str(SIZE)}_{str(STEP_SIZE)}_{VERSION_UNET}.gpkg'\n",
    "polygonize(threshold=THR,\n",
    "           input_dir=filtered_folder,\n",
    "           output=output_path)"
   ]
  },
  {
   "cell_type": "markdown",
   "metadata": {},
   "source": [
    "### Minimum area "
   ]
  },
  {
   "cell_type": "code",
   "execution_count": 25,
   "metadata": {},
   "outputs": [],
   "source": [
    "src_file = './../dataset/data_results/TEGUCIGALPA/low/v1/poligonize/poligonize_TEGUCIGALPA_low_landslides_classD_thr3_160_40_v1.gpkg'#output_path\n",
    "dst_file = src_file[:-5] + \"_utm.gpkg\"\n",
    "\n",
    "!ogr2ogr -s_srs EPSG:4326 -t_srs EPSG:32616 -f 'GPKG' $dst_file $src_file"
   ]
  },
  {
   "cell_type": "code",
   "execution_count": 34,
   "metadata": {},
   "outputs": [],
   "source": [
    "input_ = dst_file\n",
    "output_ = input_[:-5] + \"_up\"+str(min_area)+\".gpkg\""
   ]
  },
  {
   "cell_type": "code",
   "execution_count": 28,
   "metadata": {
    "collapsed": true,
    "jupyter": {
     "outputs_hidden": true
    },
    "scrolled": true,
    "tags": []
   },
   "outputs": [
    {
     "name": "stdout",
     "output_type": "stream",
     "text": [
      "INFO: Open of `./../dataset/data_results/SULA/planet/v3/poligonize/poligonize_SULA_planet_landslides_classD_thr5_256_40_3_v3_utm.gpkg'\n",
      "      using driver `GPKG' successful.\n",
      "\n",
      "Layer name: out\n",
      "Geometry: Polygon\n",
      "Feature Count: 39615\n",
      "Extent: (385055.717256, 1697189.752631) - (418893.502815, 1734170.793931)\n",
      "Layer SRS WKT:\n",
      "PROJCRS[\"WGS 84 / UTM zone 16N\",\n",
      "    BASEGEOGCRS[\"WGS 84\",\n",
      "        DATUM[\"World Geodetic System 1984\",\n",
      "            ELLIPSOID[\"WGS 84\",6378137,298.257223563,\n",
      "                LENGTHUNIT[\"metre\",1]]],\n",
      "        PRIMEM[\"Greenwich\",0,\n",
      "            ANGLEUNIT[\"degree\",0.0174532925199433]],\n",
      "        ID[\"EPSG\",4326]],\n",
      "    CONVERSION[\"UTM zone 16N\",\n",
      "        METHOD[\"Transverse Mercator\",\n",
      "            ID[\"EPSG\",9807]],\n",
      "        PARAMETER[\"Latitude of natural origin\",0,\n",
      "            ANGLEUNIT[\"degree\",0.0174532925199433],\n",
      "            ID[\"EPSG\",8801]],\n",
      "        PARAMETER[\"Longitude of natural origin\",-87,\n",
      "            ANGLEUNIT[\"degree\",0.0174532925199433],\n",
      "            ID[\"EPSG\",8802]],\n",
      "        PARAMETER[\"Scale factor at natural origin\",0.9996,\n",
      "            SCALEUNIT[\"unity\",1],\n",
      "            ID[\"EPSG\",8805]],\n",
      "        PARAMETER[\"False easting\",500000,\n",
      "            LENGTHUNIT[\"metre\",1],\n",
      "            ID[\"EPSG\",8806]],\n",
      "        PARAMETER[\"False northing\",0,\n",
      "            LENGTHUNIT[\"metre\",1],\n",
      "            ID[\"EPSG\",8807]]],\n",
      "    CS[Cartesian,2],\n",
      "        AXIS[\"(E)\",east,\n",
      "            ORDER[1],\n",
      "            LENGTHUNIT[\"metre\",1]],\n",
      "        AXIS[\"(N)\",north,\n",
      "            ORDER[2],\n",
      "            LENGTHUNIT[\"metre\",1]],\n",
      "    USAGE[\n",
      "        SCOPE[\"unknown\"],\n",
      "        AREA[\"World - N hemisphere - 90°W to 84°W - by country\"],\n",
      "        BBOX[0,-90,84,-84]],\n",
      "    ID[\"EPSG\",32616]]\n",
      "Data axis to CRS axis mapping: 1,2\n",
      "FID Column = fid\n",
      "Geometry Column = geom\n",
      "DN: Integer (0.0)\n"
     ]
    }
   ],
   "source": [
    "!ogrinfo -al -so $dst_file "
   ]
  },
  {
   "cell_type": "code",
   "execution_count": 35,
   "metadata": {},
   "outputs": [],
   "source": [
    "!ogr2ogr \\\n",
    "    -t_srs EPSG:32616 \\\n",
    "    -f \"GPKG\" \\\n",
    "    -sql \"SELECT * FROM out m WHERE (ST_Area(geom) > $min_area)\" \\\n",
    "    -dialect SQLITE \\\n",
    "    -nln results \\\n",
    "    $output_ \\\n",
    "    $input_"
   ]
  },
  {
   "cell_type": "markdown",
   "metadata": {},
   "source": [
    "### Smoothing"
   ]
  },
  {
   "cell_type": "code",
   "execution_count": 23,
   "metadata": {},
   "outputs": [
    {
     "name": "stdout",
     "output_type": "stream",
     "text": [
      "Smooth chips: 100%|#########################| 1285/1285 [00:29<00:00, 43.38it/s]\n",
      "Build bounds R-Tree index: 100%|###########| 1285/1285 [00:02<00:00, 569.33it/s]\n",
      "Merge chips: 100%|############################| 100/100 [00:25<00:00,  3.98it/s]\n"
     ]
    }
   ],
   "source": [
    "output=os.path.join(f'./../dataset/data_results/{ZONE}/{RESO}/{VERSION_UNET}/SMOOTH',str(size)+\"_\"+str(step_size)+\"_aoi\",'output')\n",
    "!satproc_smooth_stitch $predict_config.results_path -o $output"
   ]
  },
  {
   "cell_type": "markdown",
   "metadata": {},
   "source": [
    "**Smooth filter**"
   ]
  },
  {
   "cell_type": "code",
   "execution_count": 32,
   "metadata": {},
   "outputs": [
    {
     "name": "stdout",
     "output_type": "stream",
     "text": [
      "[2022-08-30 15:36:40] INFO:satproc.console.spatial_filter:Num. input files: 100\n",
      "[2022-08-30 15:36:40] INFO:satproc.postprocess.spatial_filter:Merge input images into a virtual raster /tmp/tmp_k5xi03y/merged.vrt\n",
      "Apply filter:   0%|                                       | 0/1 [00:00<?, ?it/s][2022-08-30 15:36:41] INFO:rasterio._env:GDAL signalled an error: err_no=4, msg='./../dataset/data_results/TEGUCIGALPA/planet/v3/SMOOTH/landslides_TEGUCIGALPA_planet_v3_160_40_aoi_smooth_filter_83.tif: No such file or directory'\n",
      "Apply filter: 100%|###############################| 1/1 [00:00<00:00,  1.74it/s]\n"
     ]
    }
   ],
   "source": [
    "filt_output=f'./../dataset/data_results/{ZONE}/{RESO}/{VERSION_UNET}/SMOOTH/landslides_{ZONE}_{RESO}_{VERSION_UNET}_{str(SIZE)}_{str(step_size)}_aoi_smooth_filter_{SMOOTH_FILTER}.tif'\n",
    "!satproc_spatial_filter -v --input-dir $output --size $SMOOTH_FILTER -o $filt_output"
   ]
  }
 ],
 "metadata": {
  "colab": {
   "authorship_tag": "ABX9TyNKlws8+6PcuvJrSWdSmTxJ",
   "include_colab_link": true,
   "name": "2 - Entrenamiento",
   "provenance": []
  },
  "kernelspec": {
   "display_name": "Python 3 (ipykernel)",
   "language": "python",
   "name": "python3"
  },
  "language_info": {
   "codemirror_mode": {
    "name": "ipython",
    "version": 3
   },
   "file_extension": ".py",
   "mimetype": "text/x-python",
   "name": "python",
   "nbconvert_exporter": "python",
   "pygments_lexer": "ipython3",
   "version": "3.9.11"
  },
  "toc": {
   "base_numbering": 1,
   "nav_menu": {},
   "number_sections": true,
   "sideBar": true,
   "skip_h1_title": false,
   "title_cell": "Table of Contents",
   "title_sidebar": "Contents",
   "toc_cell": false,
   "toc_position": {},
   "toc_section_display": true,
   "toc_window_display": false
  }
 },
 "nbformat": 4,
 "nbformat_minor": 4
}
